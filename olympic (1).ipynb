{
 "cells": [
  {
   "cell_type": "code",
   "execution_count": 3,
   "id": "a87625e3-6130-450d-982c-19faa8824d6d",
   "metadata": {},
   "outputs": [
    {
     "data": {
      "text/html": [
       "<div>\n",
       "<style scoped>\n",
       "    .dataframe tbody tr th:only-of-type {\n",
       "        vertical-align: middle;\n",
       "    }\n",
       "\n",
       "    .dataframe tbody tr th {\n",
       "        vertical-align: top;\n",
       "    }\n",
       "\n",
       "    .dataframe thead th {\n",
       "        text-align: right;\n",
       "    }\n",
       "</style>\n",
       "<table border=\"1\" class=\"dataframe\">\n",
       "  <thead>\n",
       "    <tr style=\"text-align: right;\">\n",
       "      <th></th>\n",
       "      <th>ID</th>\n",
       "      <th>Name</th>\n",
       "      <th>Sex</th>\n",
       "      <th>Age</th>\n",
       "      <th>Height</th>\n",
       "      <th>Weight</th>\n",
       "      <th>Team</th>\n",
       "      <th>NOC</th>\n",
       "      <th>Games</th>\n",
       "      <th>Year</th>\n",
       "      <th>Season</th>\n",
       "      <th>City</th>\n",
       "      <th>Sport</th>\n",
       "      <th>Event</th>\n",
       "      <th>Medal</th>\n",
       "    </tr>\n",
       "  </thead>\n",
       "  <tbody>\n",
       "    <tr>\n",
       "      <th>0</th>\n",
       "      <td>1</td>\n",
       "      <td>A Dijiang</td>\n",
       "      <td>M</td>\n",
       "      <td>24.0</td>\n",
       "      <td>180.0</td>\n",
       "      <td>80.0</td>\n",
       "      <td>China</td>\n",
       "      <td>CHN</td>\n",
       "      <td>1992 Summer</td>\n",
       "      <td>1992</td>\n",
       "      <td>Summer</td>\n",
       "      <td>Barcelona</td>\n",
       "      <td>Basketball</td>\n",
       "      <td>Basketball Men's Basketball</td>\n",
       "      <td>NaN</td>\n",
       "    </tr>\n",
       "    <tr>\n",
       "      <th>1</th>\n",
       "      <td>2</td>\n",
       "      <td>A Lamusi</td>\n",
       "      <td>M</td>\n",
       "      <td>23.0</td>\n",
       "      <td>170.0</td>\n",
       "      <td>60.0</td>\n",
       "      <td>China</td>\n",
       "      <td>CHN</td>\n",
       "      <td>2012 Summer</td>\n",
       "      <td>2012</td>\n",
       "      <td>Summer</td>\n",
       "      <td>London</td>\n",
       "      <td>Judo</td>\n",
       "      <td>Judo Men's Extra-Lightweight</td>\n",
       "      <td>NaN</td>\n",
       "    </tr>\n",
       "    <tr>\n",
       "      <th>2</th>\n",
       "      <td>3</td>\n",
       "      <td>Gunnar Nielsen Aaby</td>\n",
       "      <td>M</td>\n",
       "      <td>24.0</td>\n",
       "      <td>NaN</td>\n",
       "      <td>NaN</td>\n",
       "      <td>Denmark</td>\n",
       "      <td>DEN</td>\n",
       "      <td>1920 Summer</td>\n",
       "      <td>1920</td>\n",
       "      <td>Summer</td>\n",
       "      <td>Antwerpen</td>\n",
       "      <td>Football</td>\n",
       "      <td>Football Men's Football</td>\n",
       "      <td>NaN</td>\n",
       "    </tr>\n",
       "    <tr>\n",
       "      <th>3</th>\n",
       "      <td>4</td>\n",
       "      <td>Edgar Lindenau Aabye</td>\n",
       "      <td>M</td>\n",
       "      <td>34.0</td>\n",
       "      <td>NaN</td>\n",
       "      <td>NaN</td>\n",
       "      <td>Denmark/Sweden</td>\n",
       "      <td>DEN</td>\n",
       "      <td>1900 Summer</td>\n",
       "      <td>1900</td>\n",
       "      <td>Summer</td>\n",
       "      <td>Paris</td>\n",
       "      <td>Tug-Of-War</td>\n",
       "      <td>Tug-Of-War Men's Tug-Of-War</td>\n",
       "      <td>Gold</td>\n",
       "    </tr>\n",
       "    <tr>\n",
       "      <th>4</th>\n",
       "      <td>5</td>\n",
       "      <td>Christine Jacoba Aaftink</td>\n",
       "      <td>F</td>\n",
       "      <td>21.0</td>\n",
       "      <td>185.0</td>\n",
       "      <td>82.0</td>\n",
       "      <td>Netherlands</td>\n",
       "      <td>NED</td>\n",
       "      <td>1988 Winter</td>\n",
       "      <td>1988</td>\n",
       "      <td>Winter</td>\n",
       "      <td>Calgary</td>\n",
       "      <td>Speed Skating</td>\n",
       "      <td>Speed Skating Women's 500 metres</td>\n",
       "      <td>NaN</td>\n",
       "    </tr>\n",
       "  </tbody>\n",
       "</table>\n",
       "</div>"
      ],
      "text/plain": [
       "   ID                      Name Sex   Age  Height  Weight            Team  \\\n",
       "0   1                 A Dijiang   M  24.0   180.0    80.0           China   \n",
       "1   2                  A Lamusi   M  23.0   170.0    60.0           China   \n",
       "2   3       Gunnar Nielsen Aaby   M  24.0     NaN     NaN         Denmark   \n",
       "3   4      Edgar Lindenau Aabye   M  34.0     NaN     NaN  Denmark/Sweden   \n",
       "4   5  Christine Jacoba Aaftink   F  21.0   185.0    82.0     Netherlands   \n",
       "\n",
       "   NOC        Games  Year  Season       City          Sport  \\\n",
       "0  CHN  1992 Summer  1992  Summer  Barcelona     Basketball   \n",
       "1  CHN  2012 Summer  2012  Summer     London           Judo   \n",
       "2  DEN  1920 Summer  1920  Summer  Antwerpen       Football   \n",
       "3  DEN  1900 Summer  1900  Summer      Paris     Tug-Of-War   \n",
       "4  NED  1988 Winter  1988  Winter    Calgary  Speed Skating   \n",
       "\n",
       "                              Event Medal  \n",
       "0       Basketball Men's Basketball   NaN  \n",
       "1      Judo Men's Extra-Lightweight   NaN  \n",
       "2           Football Men's Football   NaN  \n",
       "3       Tug-Of-War Men's Tug-Of-War  Gold  \n",
       "4  Speed Skating Women's 500 metres   NaN  "
      ]
     },
     "execution_count": 3,
     "metadata": {},
     "output_type": "execute_result"
    }
   ],
   "source": [
    "import pandas as pd\n",
    "df=pd.read_csv(\"athlete_events.csv\")\n",
    "df.head()"
   ]
  },
  {
   "cell_type": "code",
   "execution_count": 4,
   "id": "6bac242d-6e44-46cd-b628-d56ae97fc80b",
   "metadata": {},
   "outputs": [
    {
     "data": {
      "text/plain": [
       "ID             0\n",
       "Name           0\n",
       "Sex            0\n",
       "Age         9474\n",
       "Height     60171\n",
       "Weight     62875\n",
       "Team           0\n",
       "NOC            0\n",
       "Games          0\n",
       "Year           0\n",
       "Season         0\n",
       "City           0\n",
       "Sport          0\n",
       "Event          0\n",
       "Medal     231333\n",
       "dtype: int64"
      ]
     },
     "execution_count": 4,
     "metadata": {},
     "output_type": "execute_result"
    }
   ],
   "source": [
    "df.isnull().sum()"
   ]
  },
  {
   "cell_type": "code",
   "execution_count": 5,
   "id": "f0ca942b-f8f7-4379-9c05-bab3cf9207b5",
   "metadata": {},
   "outputs": [],
   "source": [
    "import matplotlib.pyplot as plt\n",
    "import seaborn as sns"
   ]
  },
  {
   "cell_type": "code",
   "execution_count": 6,
   "id": "07c27dbb-0b03-4293-8912-27b5a51917eb",
   "metadata": {},
   "outputs": [],
   "source": [
    "df['Age'].fillna(value=df['Age'].mean(),inplace=True)"
   ]
  },
  {
   "cell_type": "code",
   "execution_count": 7,
   "id": "00b94241-f329-4c36-9248-68fe3472db3b",
   "metadata": {},
   "outputs": [],
   "source": [
    "df['Height'].fillna(value=df['Height'].mean(),inplace=True)"
   ]
  },
  {
   "cell_type": "code",
   "execution_count": 8,
   "id": "1e74f824-81c3-4c85-bf04-c2f9b16ee941",
   "metadata": {},
   "outputs": [],
   "source": [
    "df['Weight'].fillna(value=df['Weight'].mean(),inplace=True)"
   ]
  },
  {
   "cell_type": "code",
   "execution_count": 9,
   "id": "8e8f63e9-e1f1-4c03-8493-4c5633c99528",
   "metadata": {},
   "outputs": [
    {
     "data": {
      "text/plain": [
       "ID             0\n",
       "Name           0\n",
       "Sex            0\n",
       "Age            0\n",
       "Height         0\n",
       "Weight         0\n",
       "Team           0\n",
       "NOC            0\n",
       "Games          0\n",
       "Year           0\n",
       "Season         0\n",
       "City           0\n",
       "Sport          0\n",
       "Event          0\n",
       "Medal     231333\n",
       "dtype: int64"
      ]
     },
     "execution_count": 9,
     "metadata": {},
     "output_type": "execute_result"
    }
   ],
   "source": [
    "df.isnull().sum()"
   ]
  },
  {
   "cell_type": "code",
   "execution_count": 10,
   "id": "f7ba16b6-38de-4b39-81c6-6aec1ea0e1c2",
   "metadata": {},
   "outputs": [],
   "source": [
    "df.drop_duplicates(keep='first',inplace=True,)"
   ]
  },
  {
   "cell_type": "code",
   "execution_count": 11,
   "id": "e7e84ce8-116d-4ca3-9c98-3b95356e261d",
   "metadata": {},
   "outputs": [
    {
     "data": {
      "text/plain": [
       "0"
      ]
     },
     "execution_count": 11,
     "metadata": {},
     "output_type": "execute_result"
    }
   ],
   "source": [
    "df.duplicated().sum()"
   ]
  },
  {
   "cell_type": "code",
   "execution_count": 43,
   "id": "2a557f17-4bf6-4f36-a1cc-e26335badfc8",
   "metadata": {},
   "outputs": [],
   "source": [
    "df['Medal'].fillna(value=\"no_medal\",inplace=True)"
   ]
  },
  {
   "cell_type": "code",
   "execution_count": 12,
   "id": "22523781-8738-4c5c-9be5-1589c6364b3a",
   "metadata": {},
   "outputs": [
    {
     "name": "stdout",
     "output_type": "stream",
     "text": [
      "<class 'pandas.core.frame.DataFrame'>\n",
      "Int64Index: 269731 entries, 0 to 271115\n",
      "Data columns (total 15 columns):\n",
      " #   Column  Non-Null Count   Dtype  \n",
      "---  ------  --------------   -----  \n",
      " 0   ID      269731 non-null  int64  \n",
      " 1   Name    269731 non-null  object \n",
      " 2   Sex     269731 non-null  object \n",
      " 3   Age     269731 non-null  float64\n",
      " 4   Height  269731 non-null  float64\n",
      " 5   Weight  269731 non-null  float64\n",
      " 6   Team    269731 non-null  object \n",
      " 7   NOC     269731 non-null  object \n",
      " 8   Games   269731 non-null  object \n",
      " 9   Year    269731 non-null  int64  \n",
      " 10  Season  269731 non-null  object \n",
      " 11  City    269731 non-null  object \n",
      " 12  Sport   269731 non-null  object \n",
      " 13  Event   269731 non-null  object \n",
      " 14  Medal   39772 non-null   object \n",
      "dtypes: float64(3), int64(2), object(10)\n",
      "memory usage: 32.9+ MB\n"
     ]
    }
   ],
   "source": [
    "df.info()"
   ]
  },
  {
   "cell_type": "code",
   "execution_count": 13,
   "id": "fee89ee9-48b5-4be9-9406-605f6288f41b",
   "metadata": {},
   "outputs": [
    {
     "data": {
      "text/plain": [
       "United States                       1085\n",
       "Soviet Union                         459\n",
       "Germany                              295\n",
       "Great Britain                        252\n",
       "France                               251\n",
       "                                    ... \n",
       "Aschenbrodel                           1\n",
       "Deutscher Schwimm Verband Berlin       1\n",
       "Nepal                                  1\n",
       "Nrnberg                                1\n",
       "Heira II                               1\n",
       "Name: Team, Length: 236, dtype: int64"
      ]
     },
     "execution_count": 13,
     "metadata": {},
     "output_type": "execute_result"
    }
   ],
   "source": [
    "medal_ranks = df[df['Medal'] == 'Gold'].groupby(['NOC', 'Year', 'Sport', 'Event', 'Season'])\n",
    "medal_ranks = medal_ranks.first()\n",
    "medal_ranks = medal_ranks.reset_index()\n",
    "medal_ranks['Team'].value_counts()\n"
   ]
  },
  {
   "cell_type": "code",
   "execution_count": 14,
   "id": "01e4079c-fd64-4e3c-98bc-87022c153666",
   "metadata": {},
   "outputs": [
    {
     "data": {
      "text/plain": [
       "Athletics                    344\n",
       "Swimming                     246\n",
       "Shooting                      54\n",
       "Wrestling                     52\n",
       "Boxing                        50\n",
       "Diving                        48\n",
       "Gymnastics                    35\n",
       "Rowing                        33\n",
       "Speed Skating                 29\n",
       "Basketball                    23\n",
       "Tennis                        21\n",
       "Sailing                       19\n",
       "Weightlifting                 16\n",
       "Alpine Skiing                 16\n",
       "Cycling                       16\n",
       "Figure Skating                15\n",
       "Archery                       14\n",
       "Equestrianism                 11\n",
       "Snowboarding                  10\n",
       "Freestyle Skiing               8\n",
       "Bobsleigh                      7\n",
       "Beach Volleyball               6\n",
       "Synchronized Swimming          5\n",
       "Canoeing                       5\n",
       "Art Competitions               4\n",
       "Football                       4\n",
       "Fencing                        4\n",
       "Short Track Speed Skating      4\n",
       "Golf                           3\n",
       "Softball                       3\n",
       "Volleyball                     3\n",
       "Ice Hockey                     3\n",
       "Rugby                          3\n",
       "Water Polo                     3\n",
       "Skeleton                       3\n",
       "Taekwondo                      2\n",
       "Judo                           2\n",
       "Jeu De Paume                   1\n",
       "Polo                           1\n",
       "Roque                          1\n",
       "Tug-Of-War                     1\n",
       "Baseball                       1\n",
       "Nordic Combined                1\n",
       "Triathlon                      1\n",
       "Name: Sport, dtype: int64"
      ]
     },
     "execution_count": 14,
     "metadata": {},
     "output_type": "execute_result"
    }
   ],
   "source": [
    "### Gold medals owned by USA in all event\n",
    "med=df[df['NOC']=='USA']\n",
    "med_usa=med[med['Medal']=='Gold'].groupby(['Year', 'Sport', 'Event','Season'])\n",
    "med_usa=med_usa.first()\n",
    "med_usa=med_usa.reset_index()\n",
    "med_usa.Sport.value_counts()"
   ]
  },
  {
   "cell_type": "code",
   "execution_count": 15,
   "id": "37beec60-7137-4dc5-97c1-605ad31e09eb",
   "metadata": {},
   "outputs": [
    {
     "data": {
      "text/plain": [
       "Speed Skating                29\n",
       "Alpine Skiing                16\n",
       "Figure Skating               15\n",
       "Snowboarding                 10\n",
       "Freestyle Skiing              8\n",
       "Bobsleigh                     7\n",
       "Short Track Speed Skating     4\n",
       "Skeleton                      3\n",
       "Ice Hockey                    3\n",
       "Nordic Combined               1\n",
       "Name: Sport, dtype: int64"
      ]
     },
     "execution_count": 15,
     "metadata": {},
     "output_type": "execute_result"
    }
   ],
   "source": [
    "### medals won by the USA in summer & winter\n",
    "med1=med[med['Season']=='Winter']\n",
    "win=med1[med1['Medal']==\"Gold\"].groupby(['Year', 'Sport', 'Event'])\n",
    "win=win.first()\n",
    "win=win.reset_index()\n",
    "win.Sport.value_counts()"
   ]
  },
  {
   "cell_type": "code",
   "execution_count": 16,
   "id": "6063bdd2-1be7-4aad-bd72-8240f7c12f96",
   "metadata": {},
   "outputs": [
    {
     "data": {
      "text/plain": [
       "Athletics                344\n",
       "Swimming                 246\n",
       "Shooting                  54\n",
       "Wrestling                 52\n",
       "Boxing                    50\n",
       "Diving                    48\n",
       "Gymnastics                35\n",
       "Rowing                    33\n",
       "Basketball                23\n",
       "Tennis                    21\n",
       "Sailing                   19\n",
       "Weightlifting             16\n",
       "Cycling                   16\n",
       "Archery                   14\n",
       "Equestrianism             11\n",
       "Beach Volleyball           6\n",
       "Synchronized Swimming      5\n",
       "Canoeing                   5\n",
       "Art Competitions           4\n",
       "Fencing                    4\n",
       "Football                   4\n",
       "Softball                   3\n",
       "Rugby                      3\n",
       "Water Polo                 3\n",
       "Volleyball                 3\n",
       "Golf                       3\n",
       "Taekwondo                  2\n",
       "Judo                       2\n",
       "Baseball                   1\n",
       "Roque                      1\n",
       "Polo                       1\n",
       "Jeu De Paume               1\n",
       "Tug-Of-War                 1\n",
       "Triathlon                  1\n",
       "Name: Sport, dtype: int64"
      ]
     },
     "execution_count": 16,
     "metadata": {},
     "output_type": "execute_result"
    }
   ],
   "source": [
    "med=df[df['NOC']=='USA']\n",
    "med2=med[med['Season']=='Summer']\n",
    "summ=med2[med2['Medal']==\"Gold\"].groupby(['Year', 'Sport', 'Event'])\n",
    "summ=summ.first()\n",
    "summ=summ.reset_index()\n",
    "summ.Sport.value_counts()"
   ]
  },
  {
   "cell_type": "code",
   "execution_count": 17,
   "id": "4ab4f553-3cb9-4de9-a8d6-120dd18b2020",
   "metadata": {},
   "outputs": [
    {
     "data": {
      "text/plain": [
       "NOR    111\n",
       "USA     96\n",
       "GER     86\n",
       "URS     77\n",
       "CAN     62\n",
       "AUT     59\n",
       "SWE     50\n",
       "SUI     50\n",
       "RUS     49\n",
       "FIN     42\n",
       "GDR     39\n",
       "ITA     37\n",
       "NED     37\n",
       "FRA     31\n",
       "KOR     26\n",
       "CHN     12\n",
       "FRG     11\n",
       "GBR     11\n",
       "JPN     10\n",
       "EUN      9\n",
       "CZE      7\n",
       "POL      6\n",
       "AUS      6\n",
       "BLR      6\n",
       "EST      4\n",
       "CRO      4\n",
       "LIE      2\n",
       "SLO      2\n",
       "SVK      2\n",
       "TCH      2\n",
       "UKR      2\n",
       "KAZ      1\n",
       "NEP      1\n",
       "IND      1\n",
       "ESP      1\n",
       "BUL      1\n",
       "BEL      1\n",
       "UZB      1\n",
       "Name: NOC, dtype: int64"
      ]
     },
     "execution_count": 17,
     "metadata": {},
     "output_type": "execute_result"
    }
   ],
   "source": [
    "### as we can see that USA has won most gold medal in summer event sports\n",
    "med2=df[df['Season']=='Winter']\n",
    "summ=med2[med2['Medal']==\"Gold\"].groupby(['NOC','Year', 'Sport', 'Event'])\n",
    "summ=summ.first()\n",
    "summ=summ.reset_index()\n",
    "summ.NOC.value_counts()"
   ]
  },
  {
   "cell_type": "code",
   "execution_count": 18,
   "id": "b5d477e1-e1d7-4d73-b896-66425e392641",
   "metadata": {},
   "outputs": [
    {
     "data": {
      "text/plain": [
       "Cross Country Skiing    33\n",
       "Speed Skating           25\n",
       "Biathlon                15\n",
       "Nordic Combined         13\n",
       "Alpine Skiing           10\n",
       "Ski Jumping              9\n",
       "Figure Skating           3\n",
       "Freestyle Skiing         2\n",
       "Curling                  1\n",
       "Name: Sport, dtype: int64"
      ]
     },
     "execution_count": 18,
     "metadata": {},
     "output_type": "execute_result"
    }
   ],
   "source": [
    "### in winter norway has won most gold medal\n",
    "nor=df[df['NOC']=='NOR']\n",
    "nor_win=nor[nor[\"Season\"]=='Winter']\n",
    "norwin=nor_win[nor_win['Medal']=='Gold'].groupby(['Year','Sport','Event'])\n",
    "norwin=norwin.first()\n",
    "norwin=norwin.reset_index()\n",
    "norwin['Sport'].value_counts()"
   ]
  },
  {
   "cell_type": "code",
   "execution_count": 19,
   "id": "5a9ed4dd-3e3c-4970-949a-46de1360082f",
   "metadata": {},
   "outputs": [
    {
     "data": {
      "text/plain": [
       "<AxesSubplot:xlabel='Sport'>"
      ]
     },
     "execution_count": 19,
     "metadata": {},
     "output_type": "execute_result"
    },
    {
     "data": {
      "image/png": "[encoded data removed]",
      "text/plain": [
       "<Figure size 1800x1000 with 1 Axes>"
      ]
     },
     "metadata": {},
     "output_type": "display_data"
    }
   ],
   "source": [
    "nor=df[df['NOC']=='NOR']\n",
    "nor_win=nor[nor[\"Season\"]=='Winter']\n",
    "norwin=nor_win[nor_win['Medal']=='Gold'].groupby(['Year','Sport','Event'])\n",
    "norwin=norwin.first()\n",
    "norwin=norwin.reset_index()\n",
    "norwin['Sport'].value_counts()\n",
    "medal_colors = ['darkgoldenrod', 'gold', 'silver']\n",
    "pd.crosstab(norwin.Sport,norwin.Medal).plot(kind='bar',color = medal_colors,stacked=True, figsize=(18,10))"
   ]
  },
  {
   "cell_type": "code",
   "execution_count": 20,
   "id": "f752d704-4963-4042-b0c7-beb40f2188f8",
   "metadata": {},
   "outputs": [],
   "source": [
    "df.Height=df.Height/100"
   ]
  },
  {
   "cell_type": "code",
   "execution_count": 21,
   "id": "4eb9a630-7a48-45c6-b95f-57cdd7a44de4",
   "metadata": {},
   "outputs": [],
   "source": [
    "df['BMI']=df.Weight/(df.Height)**2"
   ]
  },
  {
   "cell_type": "code",
   "execution_count": 22,
   "id": "a0c92e9f-be57-4225-bf80-058e295e65bd",
   "metadata": {},
   "outputs": [
    {
     "data": {
      "text/plain": [
       "0         24.691358\n",
       "1         20.761246\n",
       "2         22.997319\n",
       "3         22.997319\n",
       "4         23.959094\n",
       "            ...    \n",
       "271111    27.776911\n",
       "271112    19.047004\n",
       "271113    19.047004\n",
       "271114    28.049671\n",
       "271115    28.049671\n",
       "Name: BMI, Length: 269731, dtype: float64"
      ]
     },
     "execution_count": 22,
     "metadata": {},
     "output_type": "execute_result"
    }
   ],
   "source": [
    "df.BMI"
   ]
  },
  {
   "cell_type": "code",
   "execution_count": 23,
   "id": "bc5751e9-ec22-4386-8299-20573b07505d",
   "metadata": {},
   "outputs": [],
   "source": [
    "df.drop(columns=['Height','Weight'],inplace=True)"
   ]
  },
  {
   "cell_type": "code",
   "execution_count": 24,
   "id": "62b390d5-ef7d-475b-8b11-1005a304deea",
   "metadata": {},
   "outputs": [],
   "source": [
    "df['Sex']=df.Sex.replace({'M':0,'F':1})"
   ]
  },
  {
   "cell_type": "code",
   "execution_count": 44,
   "id": "af0d4738-5359-4b5e-91c2-5bd918d64595",
   "metadata": {},
   "outputs": [],
   "source": [
    "df['Medal']=df.Medal.replace({'no_medal':0,'Gold':1,'Silver':2,'Bronze':3})"
   ]
  },
  {
   "cell_type": "code",
   "execution_count": 26,
   "id": "05f526c3-f253-438f-baae-db7090a014c0",
   "metadata": {},
   "outputs": [],
   "source": [
    "from sklearn.preprocessing import LabelEncoder"
   ]
  },
  {
   "cell_type": "code",
   "execution_count": 27,
   "id": "69c99278-8aec-4d7d-b88c-83173321fe28",
   "metadata": {},
   "outputs": [],
   "source": [
    "label_encoder = LabelEncoder()"
   ]
  },
  {
   "cell_type": "code",
   "execution_count": 28,
   "id": "1d92bd6d-850e-48b1-9452-0f6a3d5605bc",
   "metadata": {},
   "outputs": [],
   "source": [
    "team=df.Team\n",
    "df['Team_encode']=label_encoder.fit_transform(team)"
   ]
  },
  {
   "cell_type": "code",
   "execution_count": 29,
   "id": "e30e0628-de6d-451d-be2c-20694a697218",
   "metadata": {},
   "outputs": [
    {
     "name": "stdout",
     "output_type": "stream",
     "text": [
      "Mapping: {'30. Februar': 0, 'A North American Team': 1, 'Acipactli': 2, 'Acturus': 3, 'Afghanistan': 4, 'Akatonbo': 5, 'Alain IV': 6, 'Albania': 7, 'Alcaid': 8, 'Alcyon-6': 9, 'Alcyon-7': 10, 'Aldebaran': 11, 'Aldebaran II': 12, 'Aletta': 13, 'Algeria': 14, 'Ali-Baba II': 15, 'Ali-Baba IV': 16, 'Ali-Baba IX': 17, 'Ali-Baba VI': 18, 'Allegro': 19, 'Almaz': 20, 'Aloha II': 21, 'Amateur Athletic Association': 22, 'American Samoa': 23, 'Amolgavar': 24, 'Amstel Amsterdam': 25, 'Amulet-3': 26, 'Amulet-7': 27, 'Ancora': 28, 'Andorinha': 29, 'Andorra': 30, 'Andromeda': 31, 'Angelita': 32, 'Angerburg': 33, 'Angola': 34, 'Anitra': 35, 'Antares': 36, 'Antigua and Barbuda': 37, 'Antwerpia V': 38, 'Apache': 39, 'Aphrodite': 40, 'Arcturus': 41, 'Ardilla': 42, 'Aretusa': 43, 'Argentina': 44, 'Argentina-1': 45, 'Argentina-2': 46, 'Argeste': 47, 'Argo II': 48, 'Argonaut Rowing Club': 49, 'Argus': 50, 'Ariel': 51, 'Ariette-10': 52, 'Ariette-8': 53, 'Armenia': 54, 'Aruba': 55, 'Aschenbrodel': 56, 'Astrid III': 57, 'Atalanta Boat Club-1': 58, 'Atalanta Boat Club-2': 59, 'Athens-2': 60, 'Atlanta': 61, 'Augsburg': 62, 'Ausonia': 63, 'Australasia': 64, 'Australia': 65, 'Australia-1': 66, 'Australia-2': 67, 'Australia-3': 68, 'Australia/Great Britain': 69, 'Austria': 70, 'Austria-1': 71, 'Austria-2': 72, 'Azerbaijan': 73, 'BLO Polo Club, Rugby': 74, 'Babe': 75, 'Baby-1': 76, 'Baby-9': 77, 'Baccara': 78, 'Bagatelle Polo Club, Paris': 79, 'Bahamas': 80, 'Bahrain': 81, 'Bajazzo': 82, 'Balaton': 83, 'Ballerina IV': 84, 'Bamba': 85, 'Bangladesh': 86, 'Barbados': 87, 'Barco Deloro': 88, 'Barion/Bari-2': 89, 'Barrenjoey': 90, 'Beatrijs III-1': 91, 'Beaver': 92, 'Belarus': 93, 'Belarus-1': 94, 'Belarus-2': 95, 'Belgium': 96, 'Belgium-1': 97, 'Belgium-2': 98, 'Belgium-3': 99, 'Belgium-4': 100, 'Belize': 101, 'Bella': 102, 'Bellatrix IX': 103, 'Bellatrix XIII': 104, 'Bem II': 105, 'Benin': 106, 'Bera': 107, 'Berliner Ruderclub': 108, 'Berliner Ruderclub Sport-Borussia-1': 109, 'Berliner Ruderverein von 1876-2': 110, 'Bermuda': 111, 'Bermudes': 112, 'Bermudian': 113, 'Bhutan': 114, 'Bim': 115, 'Bingo': 116, 'Bissbi': 117, 'Blue Red': 118, 'Bluebottle': 119, 'Boer Team': 120, 'Bohemia': 121, 'Bohemia-1': 122, 'Bohemia-2': 123, 'Bohemia-3': 124, 'Bohemia/Great Britain': 125, 'Bolivia': 126, 'Bona Fide': 127, 'Bonaparte': 128, 'Bonzo': 129, 'Boreas': 130, 'Boreas-2': 131, 'Bosnia and Herzegovina': 132, 'Boston Archers': 133, 'Botswana': 134, 'Brandenburg': 135, 'Brat': 136, 'Brazil': 137, 'Brazil-1': 138, 'Brazil-2': 139, 'Bremen': 140, 'Brentina': 141, 'Breslau': 142, 'Briar': 143, 'Brigantia': 144, 'British Virgin Islands': 145, 'Bronia': 146, 'Brunei': 147, 'Brussels Swimming and Water Polo Club': 148, 'Brynhild-2': 149, 'Bu III': 150, 'Bucintoro Venezia': 151, 'Bucintoro Venezia-1': 152, 'Bulgaria': 153, 'Bulgaria-1': 154, 'Bulgaria-2': 155, 'Buraddoo': 156, 'Burevestnik': 157, 'Burkina Faso': 158, 'Burundi': 159, 'Buscape II': 160, 'Bylina-2': 161, 'C.V.A.-14': 162, 'C.V.A.-7': 163, 'Calcinhas': 164, 'Calimucho': 165, 'Calypse II': 166, 'Cambodia': 167, 'Cambria': 168, 'Cambridge University Boat Club-2': 169, 'Camelia': 170, 'Cameroon': 171, 'Camille': 172, 'Canada': 173, 'Canada-1': 174, 'Canada-2': 175, 'Canada-3': 176, 'Canopus': 177, 'Cape Verde': 178, 'Caprice': 179, 'Carabinier-15': 180, 'Carabinier-5': 181, 'Cayman Islands': 182, 'Central African Republic': 183, 'Central Turnverein, Chicago': 184, 'Century Boat Club-1': 185, 'Cercle Nautique de Reims-4': 186, \"Cercle de l'Aviron Roubaix-4\": 187, 'Ceres II': 188, 'Cha-Cha III': 189, 'Chad': 190, 'Chaje II': 191, 'Chamukina': 192, 'Chance': 193, 'Chicago Archers': 194, 'Chicago Athletic Association': 195, 'Chicago Athletic Association-2': 196, 'Chile': 197, 'China': 198, 'China-1': 199, 'China-2': 200, 'China-3': 201, 'Chinese Taipei': 202, 'Chinese Taipei-1': 203, 'Chinese Taipei-2': 204, 'Chok': 205, \"Christian Brothers' College-1\": 206, 'Chuckles': 207, 'Cicely-1': 208, 'Cinara-13': 209, 'Cincinnati Archers': 210, 'Ciocca': 211, 'Ciocca II': 212, 'Ciocca III': 213, 'Circus': 214, 'Ciss': 215, 'Clearwater': 216, 'Clementine V': 217, 'Club Nautique de Dieppe-5': 218, 'Club Nautique de Franais-1': 219, 'Club Nautique de Lyon-2': 220, 'Cobweb-1': 221, 'Colette-10': 222, 'Colette-12': 223, 'Colombia': 224, 'Comanche': 225, 'Combine': 226, 'Comoros': 227, 'Compigne Polo Club': 228, 'Complex II': 229, 'Concordia Turnverein, St Louis': 230, 'Congo (Brazzaville)': 231, 'Congo (Kinshasa)': 232, 'Cook Islands': 233, 'Cornwall': 234, 'Costa Rica': 235, \"Cote d'Ivoire\": 236, 'Covunco III': 237, 'Crabe I-11': 238, 'Crabe I-2': 239, 'Crabe I-3': 240, 'Crabe II-1': 241, 'Crabe II-12': 242, 'Crabe II-4': 243, 'Crete': 244, 'Croatia': 245, 'Crocodile-11': 246, 'Crocodile-13': 247, 'Cuba': 248, 'Cuba-1': 249, 'Cuba-2': 250, 'Cupidon III': 251, 'Cupidon Viking': 252, 'Cuxhaven': 253, 'Cyprus': 254, 'Czech Republic': 255, 'Czech Republic-1': 256, 'Czech Republic-2': 257, 'Czechoslovakia': 258, 'Czechoslovakia-1': 259, 'Czechoslovakia-2': 260, 'Czechoslovakia-3': 261, 'Daisy': 262, 'Damoiselle': 263, 'Damoiselle IV': 264, 'Danaldo': 265, 'Dansk Idrts Forbund': 266, 'Danuta': 267, 'Danzig': 268, 'Davenport Turngemeinde, Davenport': 269, 'DeRuyter': 270, 'Demi-Mondaine-15': 271, 'Demi-Mondaine-17': 272, 'Denmark': 273, 'Denmark-1': 274, 'Denmark-2': 275, 'Denmark-3': 276, 'Denmark-4': 277, 'Denmark/Sweden': 278, 'Deutscher Schwimm Verband Berlin': 279, 'Devon and Somerset Wanderers': 280, 'Diablo': 281, 'Diabolo St Maurice': 282, 'Dick-8': 283, 'Digby': 284, 'Dinah V': 285, 'Djibouti': 286, 'Djinn': 287, 'Dolfijn': 288, 'Dominica': 289, 'Dominican Republic': 290, 'Don Schufro': 291, 'Donar III': 292, 'Dormy-1': 293, 'Dow Jones': 294, 'Dresden': 295, 'Druzhba': 296, 'Ducky-16': 297, 'Ducky-4': 298, 'Dylan-2': 299, 'EA II': 300, 'East Germany': 301, 'East Germany-1': 302, 'East Germany-2': 303, 'East Germany-3': 304, 'Ecuador': 305, 'Edelweiss II-1': 306, 'Egypt': 307, 'Eissero VI': 308, 'El Salvador': 309, 'Eleda': 310, 'Elisabeth V': 311, 'Elisabeth X': 312, 'Elsie': 313, 'Elvis Va': 314, 'Emily': 315, 'Encore': 316, 'England': 317, 'England-1': 318, 'Enotria': 319, 'Equatorial Guinea': 320, 'Eritrea': 321, 'Erna Signe': 322, 'Escapade': 323, 'Espadarte': 324, 'Espardate': 325, 'Esperia': 326, 'Espuma del Mar': 327, 'Essen': 328, 'Esterel-1': 329, 'Estonia': 330, 'Ethiopia': 331, 'Ethnikos Gymnastikos Syllogos': 332, 'Evita VI': 333, 'Fada': 334, 'Falcon IV': 335, 'Falcon VI': 336, 'Faneca': 337, 'Fantasio III': 338, 'Fantlet-2': 339, 'Fantlet-7': 340, 'Favorite Hammonia-3': 341, 'Favorite-1': 342, 'Favorite-17': 343, 'Federated States of Micronesia': 344, 'Femur-1': 345, 'Femur-18': 346, 'Feo': 347, 'Fiji': 348, 'Finland': 349, 'Finland-1': 350, 'Finland-2': 351, 'Finn II': 352, 'Firebird II': 353, 'Floresco': 354, 'Formosa': 355, 'Fornebo': 356, 'Fortuna': 357, 'Foxhunters Hurlingham': 358, 'Fram': 359, 'Fram III': 360, 'France': 361, 'France-1': 362, 'France-2': 363, 'France-3': 364, 'France-4': 365, 'France/Great Britain': 366, 'Frankfurt Club': 367, 'Freddy': 368, 'Freia-19': 369, 'Freia-5': 370, 'Freja': 371, 'Frieda': 372, 'Frimousse': 373, 'Frip IV': 374, 'Fruits': 375, 'Gabbiano': 376, 'Gabon': 377, 'Galatea II': 378, 'Galejan': 379, 'Galerna': 380, 'Gallant': 381, 'Gallia II': 382, 'Galopin De La Font': 383, 'Galopin-20': 384, 'Galopin-9': 385, 'Galt Football Club': 386, 'Gam II': 387, 'Gambia': 388, 'Gem': 389, 'Gem II': 390, 'Gem III': 391, 'Gem IV': 392, 'Gem VII': 393, 'Georgia': 394, 'Germania II': 395, 'Germania Ruder Club, Hamburg': 396, 'Germania Ruder Club, Hamburg-2': 397, 'Germany': 398, 'Germany-1': 399, 'Germany-2': 400, 'Germany-3': 401, 'Germany/United States': 402, 'Ghana': 403, 'Gilliatt V': 404, 'Girl Pat': 405, 'Giselle-6': 406, 'Gitana-2': 407, 'Gitana-21': 408, 'Glider': 409, 'Glisten': 410, 'Gran Gesto': 411, 'Great Britain': 412, 'Great Britain-1': 413, 'Great Britain-2': 414, 'Great Britain-3': 415, 'Great Britain-4': 416, 'Great Britain/Germany': 417, 'Greece': 418, 'Greece-1': 419, 'Greece-2': 420, 'Greece-3': 421, 'Greece-4': 422, 'Greenoaks Dundee': 423, 'Grenada': 424, 'Grifo III': 425, 'Grifo IV': 426, 'Grifone': 427, 'Gteborgs Roddfrening-2': 428, 'Gteborgs Roddklubb-1': 429, 'Guam': 430, 'Guanahani': 431, 'Guatemala': 432, 'Guinea': 433, 'Guinea Bissau': 434, 'Gullvinge': 435, 'Gustel V': 436, 'Gustel X': 437, 'Gustl XI': 438, 'Guyana': 439, 'Guyoni': 440, 'Gwendoline-2': 441, 'Gwendoline-22': 442, 'GyoshuII': 443, 'Gyp-23': 444, 'Gyp-6': 445, 'Gyrinus-1': 446, 'Haiti': 447, 'Hakahana': 448, 'Hamburg': 449, 'Hannover': 450, 'Harmony': 451, 'Hatuey': 452, 'Hayama': 453, 'Hb-20': 454, 'Hb-24': 455, 'Heatherbell': 456, 'Heidelberg': 457, 'Heira II': 458, 'Helsingfors R. K.': 459, 'Hera-1': 460, 'Heroine': 461, 'Hi-Hi': 462, 'Hilarius': 463, 'Hirondelle': 464, 'Hojwa': 465, 'Holland': 466, 'Hollandia': 467, 'Honduras': 468, 'Hong Kong': 469, 'Hong Kong-1': 470, 'Hong Kong-2': 471, 'Hornet': 472, 'Humbug V': 473, 'Hungaria': 474, 'Hungaria Evezos Egylet': 475, 'Hungary': 476, 'Hungary-1': 477, 'Hungary-2': 478, 'Hungary-3': 479, 'Hurlingham-2': 480, 'Iceland': 481, 'Ilderim': 482, 'Impala': 483, 'Inca': 484, 'Independent Rowing Club-3': 485, 'India': 486, 'India-1': 487, 'India-2': 488, 'Individual Olympic Athletes': 489, 'Indonesia': 490, 'Indonesia-1': 491, 'Indonesia-2': 492, 'Inga-Lill XXXXIII': 493, 'Ingegerd': 494, 'Iran': 495, 'Iraq': 496, 'Ireland': 497, 'Ireland-1': 498, 'Ireland-2': 499, 'Ireland-3': 500, 'Irene': 501, 'Israel': 502, 'Israel-1': 503, 'Israel-2': 504, 'Italia': 505, 'Italy': 506, 'Italy-1': 507, 'Italy-2': 508, 'Italy-3': 509, 'Jamaica': 510, 'Jamaica-1': 511, 'Jamaica-2': 512, 'Japan': 513, 'Japan-1': 514, 'Japan-2': 515, 'Japan-3': 516, 'Jeanette-25': 517, 'Jeannette-18': 518, 'Jest': 519, 'Jet': 520, 'Jill': 521, 'Jo': 522, 'Johan': 523, 'John B': 524, 'Jordan': 525, 'Joy': 526, 'June Climene': 527, 'Jupiter': 528, 'K Division Metropolitan Police Team-3': 529, 'K.S.S.S. 1912-2': 530, 'KNS': 531, 'Kalayaan': 532, 'Kannibaltje': 533, 'Kathleen': 534, 'Kazakhstan': 535, 'Kemphaan': 536, 'Kenya': 537, 'Kerstin-1': 538, 'Kiel': 539, 'Kingfisher': 540, 'Kiribati': 541, 'Kitty-1': 542, 'Kln': 543, 'Knigsberg': 544, 'Kon-Tiki': 545, 'Konstanz': 546, 'Korshun': 547, 'Kosovo': 548, 'Kristiania Roklub': 549, 'Kristiania Roklub-1': 550, 'Kuling': 551, 'Kullan': 552, 'Kurush II': 553, 'Kurush IV': 554, 'Kuwait': 555, 'Kyrgyzstan': 556, \"L'Aile VI\": 557, 'La Salle Turnverein, Chicago': 558, 'LaBandera': 559, 'Lady C': 560, 'Lalage': 561, 'Lancet': 562, 'Laos': 563, 'Large boat, Central Naval Prep School \"Poros\"-1': 564, 'Lasha': 565, 'Latvia': 566, 'Latvia-1': 567, 'Latvia-2': 568, 'Laurea-1': 569, 'Lbeck': 570, 'Leander Club #1-1': 571, 'Leander Club #2-2': 572, 'Leander Club-1': 573, 'Leander Club-2': 574, 'Lebanon': 575, 'Legionario': 576, 'Leipzig': 577, 'Lemzos Thorichton \"Psara\"-3': 578, 'Lemzos Thorichton \"Spetsai\"-4': 579, 'Lerina': 580, 'Lesotho': 581, 'Lett': 582, 'Libellule de Paris': 583, 'Libellule de Paris-3': 584, 'Liberia': 585, 'Libya': 586, 'Liechtenstein': 587, 'Life boat naval ship \"Spetsai\"-1': 588, 'Linglom': 589, 'Lithuania': 590, 'Liverpool Police Team-2': 591, 'Llanoria': 592, 'London City Police-1': 593, 'Lotta IV': 594, 'Lucky': 595, 'Lucky Girl-1': 596, 'Lucky Star': 597, 'Ludwigshafener Ruder Verein-1': 598, 'Ludwigshafener Ruderverein': 599, 'Lully II': 600, 'Luxembourg': 601, 'Luxembourg-1': 602, 'Luxembourg-2': 603, 'Lyn-2': 604, 'Lynn': 605, \"Ma'Lindo\": 606, 'Mac Miche': 607, 'Macedonia': 608, 'Macky VI': 609, 'Mad Dog': 610, 'Madagascar': 611, 'Magda IX': 612, 'Magdalen College Boat Club-1': 613, 'Maid of Lebanon': 614, 'Mainz': 615, 'Malawi': 616, 'Malaya': 617, 'Malaysia': 618, 'Malaysia-1': 619, 'Malaysia-2': 620, 'Maldives': 621, 'Mali': 622, 'Malta': 623, 'Mamie-4': 624, 'Mamie-6': 625, 'Manana': 626, 'Marga-2': 627, 'Margaret': 628, 'Mari': 629, 'Marie-Tim': 630, 'Marinai della nave da guerra \"Varese\"': 631, 'Marmara': 632, 'Marmi II-1': 633, 'Marshall Islands': 634, 'Marsouin-26': 635, 'Marsouin-8': 636, 'Martha-1': 637, 'Martha-27': 638, 'Maryke': 639, 'Mascaret-28': 640, 'Mascaret-4': 641, 'Mascotte': 642, 'Matrero II': 643, 'Mauritania': 644, 'Mauritius': 645, 'Mauritius-1': 646, 'Mauritius-2': 647, 'May Be': 648, 'May Be VII': 649, 'May-Be 1960': 650, 'Mebi': 651, 'Merope': 652, 'Merope III': 653, 'Meteor': 654, 'Mexico': 655, 'Mexico-1': 656, 'Mexico-2': 657, 'Mignon-29': 658, 'Mignon-3': 659, 'Milwaukee Athletic Club-1': 660, 'Milwaukee Turnverein, Milwaukee': 661, 'Minerva Amsterdam': 662, 'Minotaur': 663, 'Mirtala': 664, 'Miss Denmark 1964': 665, 'Miss Nippon IV': 666, 'Miss Nippon V': 667, 'Missouri Athletic Club-3': 668, 'Mistral Hojris': 669, 'MitaII': 670, 'Mizar': 671, 'Mohawk Indians-2': 672, 'Moldova': 673, 'Monaco': 674, 'Monaco-1': 675, 'Monaco-2': 676, 'Mongolia': 677, 'Monica': 678, 'Montenegro': 679, 'Moorina': 680, 'Morena': 681, 'Morocco': 682, 'Moseley Wanderers': 683, 'Mosk II': 684, 'Mouchette-2': 685, 'Mound City Rowing Club-2': 686, 'Mozambique': 687, 'Mutafo': 688, 'Myanmar': 689, 'Myojo': 690, 'Mystery': 691, 'Mythilus': 692, 'Nadine': 693, 'Naiad': 694, 'Namibia': 695, 'Namoussa': 696, 'Nan-2': 697, 'Nauru': 698, 'Nausikaa 4': 699, 'Nautikos Omilos-3': 700, 'Nepal': 701, 'Nephos I': 702, 'Neptun II': 703, 'Netherlands': 704, 'Netherlands Antilles': 705, 'Netherlands-1': 706, 'Netherlands-2': 707, 'New College, Oxford-2': 708, 'New York Athletic Club': 709, 'New York Athletic Club #1-1': 710, 'New York Athletic Club #2-4': 711, 'New York Athletic Club-1': 712, 'New York Athletic Club-4': 713, 'New York Turnverein, New York': 714, 'New Zealand': 715, 'New Zealand-1': 716, 'New Zealand-2': 717, 'Newfoundland': 718, 'Nicaragua': 719, 'Niger': 720, 'Nigeria': 721, 'Nigeria-1': 722, 'Nigeria-2': 723, 'Nikh': 724, 'Nina': 725, 'Nina Claire-2': 726, 'Nina Claire-30': 727, 'Nirefs': 728, 'Nirwana': 729, 'Nokaut II': 730, 'Nora': 731, 'Noreg': 732, 'Norman-1': 733, 'Norna': 734, 'Nortazo': 735, 'North Borneo': 736, 'North Korea': 737, 'North Korea-1': 738, 'North Korea-2': 739, 'North Yemen': 740, 'Norway': 741, 'Norway-1': 742, 'Norway-2': 743, 'Norway-3': 744, 'Norwegian Rowing Association': 745, 'Norwegier Turnverein, Brooklyn': 746, 'Notavel': 747, 'Nrnberg': 748, 'Nurdug II': 749, 'Nykjbings paa Falster': 750, 'Oleander II': 751, 'Oleander XII': 752, 'Olen': 753, 'Olimpia': 754, 'Olle': 755, 'Olympion': 756, 'Oman': 757, 'Omas Helliniki P. S.': 758, 'Omilos Ereton Peiraios-2': 759, 'Omilos Ereton Smyrnis': 760, 'Oranje': 761, 'Orion': 762, 'Ormsund Roklub-2': 763, 'Osborne Swimming Club, Manchester': 764, 'Oxalis': 765, 'Paka': 766, 'Paka V': 767, 'Pakaria': 768, 'Pakistan': 769, 'Palau': 770, 'Palestine': 771, 'Pam': 772, 'Pampero': 773, 'Pan': 774, 'Pan II': 775, 'Pan-Hellenic Athletic Club': 776, 'Panama': 777, 'Pandora': 778, 'Panhellenios Gymnastikos Syllogos-1': 779, 'Pannonia RC/National RC': 780, 'Papua New Guinea': 781, 'Paraguay': 782, 'Partenope': 783, 'Pasodoble': 784, 'Passaic Turnverein, Passaic': 785, 'Patricia': 786, 'Paula': 787, 'Pegaso': 788, 'Peiraikos Syndesmos-2': 789, 'Peri': 790, 'Peri II': 791, 'Persey': 792, 'Peru': 793, 'Pettit-Poucet-6': 794, 'Phalainis ton Thorichtou \"Hydra\"-2': 795, 'Phalainis ton Thorichtou \"Psara\"-3': 796, 'Philadelphia Turngemeinde, Philadelphia': 797, 'Philippines': 798, 'Phoenix': 799, 'Pierre et Jean-3': 800, 'Pierre et Jean-4': 801, 'Pigoule': 802, 'Pimm': 803, 'Pirouette-31': 804, 'Pirouette-5': 805, 'Pistoja/Firenze': 806, 'Plume-Patte-5': 807, 'Plume-patte-32': 808, 'Poland': 809, 'Poland-1': 810, 'Poland-2': 811, 'Poland-3': 812, 'Polyteknisk Roklub-1': 813, 'Pop Art': 814, 'Portugal': 815, 'Portugal-1': 816, 'Portugal-2': 817, 'Posillipo III': 818, 'Potomac Archers': 819, 'Potsdam': 820, 'Pousse-Moi Pas VII': 821, 'Primorka': 822, 'Proteus II': 823, 'Puerto Rico': 824, 'Puerto Rico-1': 825, 'Puerto Rico-2': 826, 'Pupilles de Neptune de Lille #1-3': 827, 'Pupilles de Neptune de Lille #2-1': 828, 'Pupilles de Neptune de Lille-1': 829, 'Qatar': 830, \"Qu'Importe\": 831, 'Quand-Mme-2': 832, 'Quand-Mme-33': 833, 'Quando Quando': 834, 'Quicksilver-2': 835, 'R.-V. Germania, Leitmeritz': 836, 'Racing Club de France': 837, 'Raili': 838, 'Ral-Club Barcelona': 839, 'Ralia': 840, 'Rambo': 841, 'Rampage': 842, 'Ravel': 843, 'Ravenswood Boat Club-2': 844, 'Red Dragon': 845, 'Red Indian': 846, 'Refugee Olympic Athletes': 847, 'Relampago': 848, 'Rhodesia': 849, 'Rhythm': 850, 'Riccar': 851, 'Rififi': 852, 'Rika II': 853, 'Roddklubben af 1912-1': 854, 'Roddklubben af 1912-2': 855, 'Roehampton-1': 856, 'Roklubb Kbnhavn-2': 857, 'Roma': 858, 'Romania': 859, 'Romania-1': 860, 'Romania-2': 861, 'Romolo': 862, 'Rose Pompon': 863, 'Rostock': 864, 'Rowing Club Castillon-3': 865, 'Roy': 866, 'Royal Club Nautique de Gand': 867, 'Rozenn-3': 868, 'Rush IV': 869, 'Rush V': 870, 'Rush VII': 871, 'Russia': 872, 'Russia-1': 873, 'Russia-2': 874, 'Russia-3': 875, 'Rwanda': 876, 'Saar': 877, 'Sabre': 878, 'Saga-2': 879, 'SagaII': 880, 'Saint Kitts and Nevis': 881, 'Saint Lucia': 882, 'Saint Vincent and the Grenadines': 883, 'Salamander': 884, 'Salinero': 885, 'Samoa': 886, 'San Marino': 887, 'Sandra': 888, 'Sans Atout-1': 889, 'Santa Maria': 890, 'Sao Tome and Principe': 891, 'Sarcelle-3': 892, 'Sarcelle-35': 893, 'Saskia': 894, 'Sass-2': 895, 'Satchmo': 896, 'Saudi Arabia': 897, 'Scamasaxe-2': 898, 'Scamasaxe-3': 899, 'Scamasaxe-34': 900, 'Scaup': 901, 'Scotia': 902, 'Scotland': 903, 'Scotland-2': 904, 'Scotland-3': 905, 'Scram': 906, 'Sea Dog-2': 907, 'Seawanhaka Boat Club-1': 908, 'Senegal': 909, 'Serbia': 910, 'Serbia and Montenegro': 911, 'Serbia-1': 912, 'Serbia-2': 913, 'Serendipity': 914, 'Seychelles': 915, 'Sheerio': 916, 'Shoveller': 917, 'Shrew II': 918, 'Siames-Cat': 919, 'Sibindi-2': 920, 'Sidi Fekkar-36': 921, 'Sidi-Fekkar-14': 922, 'Sierra Leone': 923, 'Sif': 924, 'Sildra-1': 925, 'Silja': 926, 'Singapore': 927, 'Singapore-1': 928, 'Singapore-2': 929, 'Singy-37': 930, 'Singy-7': 931, 'Sirene': 932, 'Sjhxa': 933, 'Sjovinge': 934, 'Skidoo': 935, 'Skum': 936, 'Slaghoken': 937, 'Slaghoken II': 938, 'Slovakia': 939, 'Slovakia-1': 940, 'Slovakia-2': 941, 'Slovenia': 942, 'Slovenia-1': 943, 'Slovenia-2': 944, 'Smyrna': 945, 'Snap': 946, 'Snowten III': 947, 'Snude': 948, 'Socialer Turnverein, Detroit': 949, 'Societ Nautique de la Marne': 950, 'Societ Nautique de la Marne-1': 951, 'Societ Nautique de la Marne-3': 952, 'Socit Nautique de Bayonne': 953, 'Socit Nautique de Bayonne-1': 954, 'Socit Nautique de Bayonne-2': 955, 'Socit Nautique de la Basse Seine-1': 956, 'Socit Nautique de la Basse Seine-2': 957, 'Solomon Islands': 958, 'Solos Carex': 959, 'Somalia': 960, 'Sonja II': 961, 'Sorais-2': 962, 'Souriceau-38': 963, 'Souriceau-4': 964, 'South Africa': 965, 'South Africa-1': 966, 'South Africa-2': 967, 'South Korea': 968, 'South Korea-1': 969, 'South Korea-2': 970, 'South St Louis Turnverein, St Louis': 971, 'South Sudan': 972, 'South Vietnam': 973, 'South Yemen': 974, 'Souvenance': 975, 'Soviet Union': 976, 'Soviet Union-1': 977, 'Soviet Union-2': 978, 'Soviet Union-3': 979, 'Spain': 980, 'Spain-1': 981, 'Spain-2': 982, 'Spirit III': 983, 'Spirit VI': 984, 'Springbok': 985, 'Squid III': 986, 'Sri Lanka': 987, 'St. Louis Amateur Athletic Association': 988, 'St. Louis Southwest Turnverein #1-2': 989, 'St. Louis Southwest Turnverein #2-3': 990, 'St. Margrite': 991, 'St. Rose-2': 992, 'Stade Franais AC-2': 993, 'Starita': 994, 'Starlight III': 995, 'State VI': 996, 'Stella-2': 997, 'Struten': 998, 'Studenternes Roklub-2': 999, 'Subbnboana': 1000, 'Sudan': 1001, 'Sunrise': 1002, 'Sunshine': 1003, 'Suriname': 1004, 'Surprise': 1005, 'Suzon IV-39': 1006, 'Suzon IV-5': 1007, 'Suzy-2': 1008, 'Swaziland': 1009, 'Sweden': 1010, 'Sweden-1': 1011, 'Sweden-2': 1012, 'Sweden-3': 1013, 'Sweden-4': 1014, 'Swedish Star': 1015, 'Swift': 1016, 'Switzerland': 1017, 'Switzerland-1': 1018, 'Switzerland-2': 1019, 'Sydney Rowing Club': 1020, 'Sylvia': 1021, 'Symphony': 1022, 'Syndi': 1023, 'Syria': 1024, 'Taifun': 1025, 'Tajamar': 1026, 'Tajikistan': 1027, 'Tan-Fe-Pah': 1028, 'Tango': 1029, 'Tantalus': 1030, 'Tanzania': 1031, 'Tengiri': 1032, 'Teresita': 1033, 'Terrible': 1034, 'Thailand': 1035, 'Thailand-1': 1036, 'Thailand-2': 1037, 'Thalatta': 1038, 'Thames Rowing Club': 1039, 'The Cloud': 1040, 'Thessalonki-1': 1041, 'Three Leaves': 1042, 'Three Star Too': 1043, 'Tichiboo': 1044, 'Tilly': 1045, 'Tim-Tam III': 1046, 'Timor Leste': 1047, 'Tineke': 1048, 'Tip': 1049, 'Titia': 1050, 'Tlaloc': 1051, 'Togo': 1052, 'Tom Kyle': 1053, 'Tomahawk II': 1054, 'Tonga': 1055, 'Tornade-16': 1056, 'Tornado': 1057, 'Toronto Argonauts': 1058, 'Tournade-40': 1059, 'Tramontane': 1060, 'Trans-Mississippi Golf Association-2': 1061, 'Trickson VI': 1062, 'Trinidad and Tobago': 1063, 'Trintel II': 1064, 'Tritons Lillois-2': 1065, 'Tu-Fri': 1066, 'Tulilind': 1067, 'Tunisia': 1068, 'Turkey': 1069, 'Turkmenistan': 1070, 'Turnverein Vorwrts, Chicago': 1071, 'Turnverein Vorwrts, Cleveland': 1072, 'Turquoise-1': 1073, 'Turquoise-3': 1074, 'Tutti V': 1075, 'Tuvalu': 1076, 'Twinkle': 1077, 'Twins II': 1078, 'Twins VIII': 1079, 'USFSA': 1080, 'Ubu': 1081, 'Uganda': 1082, 'Ukraine': 1083, 'Ukraine-1': 1084, 'Ukraine-2': 1085, 'Umberta V': 1086, 'Unified Team': 1087, 'Unified Team-1': 1088, 'Unified Team-2': 1089, 'Unified Team-3': 1090, 'Union des Socits Franais de Sports Athletiques': 1091, 'Unique': 1092, 'United Arab Emirates': 1093, 'United Arab Republic': 1094, 'United States': 1095, 'United States Golf Association-3': 1096, 'United States Virgin Islands': 1097, 'United States Virgin Islands-1': 1098, 'United States Virgin Islands-2': 1099, 'United States-1': 1100, 'United States-10': 1101, 'United States-11': 1102, 'United States-12': 1103, 'United States-13': 1104, 'United States-14': 1105, 'United States-2': 1106, 'United States-3': 1107, 'United States-4': 1108, 'United States-5': 1109, 'United States-6': 1110, 'United States-7': 1111, 'United States-8': 1112, 'United States-9': 1113, 'United States/France': 1114, 'United States/Great Britain': 1115, 'Univ. of Brussels': 1116, 'Unknown': 1117, 'Upton Park FC': 1118, 'Uragan': 1119, 'Uruguay': 1120, 'Uzbekistan': 1121, 'Uzbekistan-1': 1122, 'Uzbekistan-2': 1123, 'Vanuatu': 1124, 'Vaxholm Roddklubb': 1125, 'Venezuela': 1126, 'Venilia': 1127, 'Vento Sul': 1128, 'Verveine-19': 1129, 'Verveine-41': 1130, 'Vesania': 1131, 'Vesper Boat Club': 1132, 'Vicking': 1133, 'Vietnam': 1134, 'Viking': 1135, 'Viktoriya': 1136, 'Vim III': 1137, 'Vinga-1': 1138, 'Vinha': 1139, 'Virginie': 1140, 'Vision': 1141, 'Voloira II': 1142, 'Wales-4': 1143, 'Wannsee': 1144, 'Web II': 1145, 'Web III': 1146, 'Wendehals': 1147, 'West Germany': 1148, 'West Germany-1': 1149, 'West Germany-2': 1150, 'West Germany-3': 1151, 'West Indies Federation': 1152, 'Western Golf Association-1': 1153, 'Western Rowing Club-3': 1154, 'Whirlaway': 1155, 'Whisper': 1156, 'White Lady': 1157, 'Whitini Star': 1158, 'Widgeon': 1159, 'Wiking': 1160, 'Willem-Six': 1161, 'Windor': 1162, 'Winnipeg Shamrocks-1': 1163, 'Wolseley-Siddeley-1': 1164, 'Xantippa': 1165, 'Xolotl': 1166, 'Yangon': 1167, 'Yemen': 1168, 'Yeoman': 1169, 'Yeoman V': 1170, 'Yeoman VII': 1171, 'Yeoman XII': 1172, 'Ylliam II': 1173, 'Ylliam VII': 1174, 'Ylliam VIII': 1175, 'Yugoslavia': 1176, 'Yugoslavia-1': 1177, 'Yugoslavia-2': 1178, 'Zambia': 1179, 'Zefyros': 1180, 'Zimbabwe': 1181, 'Zut': 1182, 'rn-2': 1183}\n"
     ]
    }
   ],
   "source": [
    "print(\"Mapping:\", dict(zip(label_encoder.classes_, label_encoder.transform(label_encoder.classes_))))"
   ]
  },
  {
   "cell_type": "code",
   "execution_count": 117,
   "id": "f072f53d-53ac-4bc7-92a1-805ba885ade3",
   "metadata": {},
   "outputs": [],
   "source": [
    "noc=df.NOC\n",
    "df['NOC_encode']=label_encoder.fit_transform(noc)"
   ]
  },
  {
   "cell_type": "code",
   "execution_count": 118,
   "id": "f7dbb606-4b2e-4270-b8d1-acc61fe76b09",
   "metadata": {},
   "outputs": [
    {
     "name": "stdout",
     "output_type": "stream",
     "text": [
      "Mapping: {'AFG': 0, 'AHO': 1, 'ALB': 2, 'ALG': 3, 'AND': 4, 'ANG': 5, 'ANT': 6, 'ANZ': 7, 'ARG': 8, 'ARM': 9, 'ARU': 10, 'ASA': 11, 'AUS': 12, 'AUT': 13, 'AZE': 14, 'BAH': 15, 'BAN': 16, 'BAR': 17, 'BDI': 18, 'BEL': 19, 'BEN': 20, 'BER': 21, 'BHU': 22, 'BIH': 23, 'BIZ': 24, 'BLR': 25, 'BOH': 26, 'BOL': 27, 'BOT': 28, 'BRA': 29, 'BRN': 30, 'BRU': 31, 'BUL': 32, 'BUR': 33, 'CAF': 34, 'CAM': 35, 'CAN': 36, 'CAY': 37, 'CGO': 38, 'CHA': 39, 'CHI': 40, 'CHN': 41, 'CIV': 42, 'CMR': 43, 'COD': 44, 'COK': 45, 'COL': 46, 'COM': 47, 'CPV': 48, 'CRC': 49, 'CRO': 50, 'CRT': 51, 'CUB': 52, 'CYP': 53, 'CZE': 54, 'DEN': 55, 'DJI': 56, 'DMA': 57, 'DOM': 58, 'ECU': 59, 'EGY': 60, 'ERI': 61, 'ESA': 62, 'ESP': 63, 'EST': 64, 'ETH': 65, 'EUN': 66, 'FIJ': 67, 'FIN': 68, 'FRA': 69, 'FRG': 70, 'FSM': 71, 'GAB': 72, 'GAM': 73, 'GBR': 74, 'GBS': 75, 'GDR': 76, 'GEO': 77, 'GEQ': 78, 'GER': 79, 'GHA': 80, 'GRE': 81, 'GRN': 82, 'GUA': 83, 'GUI': 84, 'GUM': 85, 'GUY': 86, 'HAI': 87, 'HKG': 88, 'HON': 89, 'HUN': 90, 'INA': 91, 'IND': 92, 'IOA': 93, 'IRI': 94, 'IRL': 95, 'IRQ': 96, 'ISL': 97, 'ISR': 98, 'ISV': 99, 'ITA': 100, 'IVB': 101, 'JAM': 102, 'JOR': 103, 'JPN': 104, 'KAZ': 105, 'KEN': 106, 'KGZ': 107, 'KIR': 108, 'KOR': 109, 'KOS': 110, 'KSA': 111, 'KUW': 112, 'LAO': 113, 'LAT': 114, 'LBA': 115, 'LBR': 116, 'LCA': 117, 'LES': 118, 'LIB': 119, 'LIE': 120, 'LTU': 121, 'LUX': 122, 'MAD': 123, 'MAL': 124, 'MAR': 125, 'MAS': 126, 'MAW': 127, 'MDA': 128, 'MDV': 129, 'MEX': 130, 'MGL': 131, 'MHL': 132, 'MKD': 133, 'MLI': 134, 'MLT': 135, 'MNE': 136, 'MON': 137, 'MOZ': 138, 'MRI': 139, 'MTN': 140, 'MYA': 141, 'NAM': 142, 'NBO': 143, 'NCA': 144, 'NED': 145, 'NEP': 146, 'NFL': 147, 'NGR': 148, 'NIG': 149, 'NOR': 150, 'NRU': 151, 'NZL': 152, 'OMA': 153, 'PAK': 154, 'PAN': 155, 'PAR': 156, 'PER': 157, 'PHI': 158, 'PLE': 159, 'PLW': 160, 'PNG': 161, 'POL': 162, 'POR': 163, 'PRK': 164, 'PUR': 165, 'QAT': 166, 'RHO': 167, 'ROT': 168, 'ROU': 169, 'RSA': 170, 'RUS': 171, 'RWA': 172, 'SAA': 173, 'SAM': 174, 'SCG': 175, 'SEN': 176, 'SEY': 177, 'SGP': 178, 'SKN': 179, 'SLE': 180, 'SLO': 181, 'SMR': 182, 'SOL': 183, 'SOM': 184, 'SRB': 185, 'SRI': 186, 'SSD': 187, 'STP': 188, 'SUD': 189, 'SUI': 190, 'SUR': 191, 'SVK': 192, 'SWE': 193, 'SWZ': 194, 'SYR': 195, 'TAN': 196, 'TCH': 197, 'TGA': 198, 'THA': 199, 'TJK': 200, 'TKM': 201, 'TLS': 202, 'TOG': 203, 'TPE': 204, 'TTO': 205, 'TUN': 206, 'TUR': 207, 'TUV': 208, 'UAE': 209, 'UAR': 210, 'UGA': 211, 'UKR': 212, 'UNK': 213, 'URS': 214, 'URU': 215, 'USA': 216, 'UZB': 217, 'VAN': 218, 'VEN': 219, 'VIE': 220, 'VIN': 221, 'VNM': 222, 'WIF': 223, 'YAR': 224, 'YEM': 225, 'YMD': 226, 'YUG': 227, 'ZAM': 228, 'ZIM': 229}\n"
     ]
    }
   ],
   "source": [
    "print(\"Mapping:\", dict(zip(label_encoder.classes_, label_encoder.transform(label_encoder.classes_))))"
   ]
  },
  {
   "cell_type": "code",
   "execution_count": 31,
   "id": "53107e0c-95f4-482b-a402-0cd047a11191",
   "metadata": {},
   "outputs": [],
   "source": [
    "df['Season']=df.Season.replace({'Summer':0,'Winter':1})"
   ]
  },
  {
   "cell_type": "code",
   "execution_count": 32,
   "id": "9e7b34c5-3934-4fbc-99e2-f4111c4063ed",
   "metadata": {},
   "outputs": [],
   "source": [
    "df['City_Encoded'] = label_encoder.fit_transform(df['City'])"
   ]
  },
  {
   "cell_type": "code",
   "execution_count": 33,
   "id": "bb104166-cb6c-47f5-ad7d-b39b17531604",
   "metadata": {},
   "outputs": [
    {
     "name": "stdout",
     "output_type": "stream",
     "text": [
      "Mapping: {'Albertville': 0, 'Amsterdam': 1, 'Antwerpen': 2, 'Athina': 3, 'Atlanta': 4, 'Barcelona': 5, 'Beijing': 6, 'Berlin': 7, 'Calgary': 8, 'Chamonix': 9, \"Cortina d'Ampezzo\": 10, 'Garmisch-Partenkirchen': 11, 'Grenoble': 12, 'Helsinki': 13, 'Innsbruck': 14, 'Lake Placid': 15, 'Lillehammer': 16, 'London': 17, 'Los Angeles': 18, 'Melbourne': 19, 'Mexico City': 20, 'Montreal': 21, 'Moskva': 22, 'Munich': 23, 'Nagano': 24, 'Oslo': 25, 'Paris': 26, 'Rio de Janeiro': 27, 'Roma': 28, 'Salt Lake City': 29, 'Sankt Moritz': 30, 'Sapporo': 31, 'Sarajevo': 32, 'Seoul': 33, 'Sochi': 34, 'Squaw Valley': 35, 'St. Louis': 36, 'Stockholm': 37, 'Sydney': 38, 'Tokyo': 39, 'Torino': 40, 'Vancouver': 41}\n"
     ]
    }
   ],
   "source": [
    "print(\"Mapping:\", dict(zip(label_encoder.classes_, label_encoder.transform(label_encoder.classes_))))"
   ]
  },
  {
   "cell_type": "code",
   "execution_count": 34,
   "id": "143ba199-92df-42bd-8ff0-48e72e3e340b",
   "metadata": {},
   "outputs": [],
   "source": [
    "df['Sport_Encoded'] = label_encoder.fit_transform(df['Sport'])"
   ]
  },
  {
   "cell_type": "code",
   "execution_count": 35,
   "id": "55ab69e3-c075-4de6-9fbc-c57563a49149",
   "metadata": {},
   "outputs": [
    {
     "name": "stdout",
     "output_type": "stream",
     "text": [
      "Mapping: {'Aeronautics': 0, 'Alpine Skiing': 1, 'Alpinism': 2, 'Archery': 3, 'Art Competitions': 4, 'Athletics': 5, 'Badminton': 6, 'Baseball': 7, 'Basketball': 8, 'Basque Pelota': 9, 'Beach Volleyball': 10, 'Biathlon': 11, 'Bobsleigh': 12, 'Boxing': 13, 'Canoeing': 14, 'Cricket': 15, 'Croquet': 16, 'Cross Country Skiing': 17, 'Curling': 18, 'Cycling': 19, 'Diving': 20, 'Equestrianism': 21, 'Fencing': 22, 'Figure Skating': 23, 'Football': 24, 'Freestyle Skiing': 25, 'Golf': 26, 'Gymnastics': 27, 'Handball': 28, 'Hockey': 29, 'Ice Hockey': 30, 'Jeu De Paume': 31, 'Judo': 32, 'Lacrosse': 33, 'Luge': 34, 'Military Ski Patrol': 35, 'Modern Pentathlon': 36, 'Motorboating': 37, 'Nordic Combined': 38, 'Polo': 39, 'Racquets': 40, 'Rhythmic Gymnastics': 41, 'Roque': 42, 'Rowing': 43, 'Rugby': 44, 'Rugby Sevens': 45, 'Sailing': 46, 'Shooting': 47, 'Short Track Speed Skating': 48, 'Skeleton': 49, 'Ski Jumping': 50, 'Snowboarding': 51, 'Softball': 52, 'Speed Skating': 53, 'Swimming': 54, 'Synchronized Swimming': 55, 'Table Tennis': 56, 'Taekwondo': 57, 'Tennis': 58, 'Trampolining': 59, 'Triathlon': 60, 'Tug-Of-War': 61, 'Volleyball': 62, 'Water Polo': 63, 'Weightlifting': 64, 'Wrestling': 65}\n"
     ]
    }
   ],
   "source": [
    "print(\"Mapping:\", dict(zip(label_encoder.classes_, label_encoder.transform(label_encoder.classes_))))"
   ]
  },
  {
   "cell_type": "code",
   "execution_count": 36,
   "id": "7f5ac2cf-c408-41e0-8ff3-af4167929bf6",
   "metadata": {},
   "outputs": [],
   "source": [
    "df['Event_Encoded'] = label_encoder.fit_transform(df['Event'])"
   ]
  },
  {
   "cell_type": "code",
   "execution_count": 37,
   "id": "56ceda77-61b1-4edf-93d7-6b11dd6c586b",
   "metadata": {},
   "outputs": [
    {
     "name": "stdout",
     "output_type": "stream",
     "text": [
      "Mapping: {'Aeronautics Mixed Aeronautics': 0, \"Alpine Skiing Men's Combined\": 1, \"Alpine Skiing Men's Downhill\": 2, \"Alpine Skiing Men's Giant Slalom\": 3, \"Alpine Skiing Men's Slalom\": 4, \"Alpine Skiing Men's Super G\": 5, \"Alpine Skiing Women's Combined\": 6, \"Alpine Skiing Women's Downhill\": 7, \"Alpine Skiing Women's Giant Slalom\": 8, \"Alpine Skiing Women's Slalom\": 9, \"Alpine Skiing Women's Super G\": 10, 'Alpinism Mixed Alpinism': 11, \"Archery Men's Au Chapelet, 33 metres\": 12, \"Archery Men's Au Chapelet, 50 metres\": 13, \"Archery Men's Au Cordon Dore, 33 metres\": 14, \"Archery Men's Au Cordon Dore, 50 metres\": 15, \"Archery Men's Championnat Du Monde\": 16, \"Archery Men's Continental Style\": 17, \"Archery Men's Double American Round\": 18, \"Archery Men's Double York Round\": 19, \"Archery Men's Individual\": 20, \"Archery Men's Pole Archery, Large Birds, Individual\": 21, \"Archery Men's Pole Archery, Large Birds, Team\": 22, \"Archery Men's Pole Archery, Small Birds, Individual\": 23, \"Archery Men's Pole Archery, Small Birds, Team\": 24, \"Archery Men's Sur La Perche a La Herse\": 25, \"Archery Men's Sur La Perche a La Pyramide\": 26, \"Archery Men's Target Archery, 28 metres, Individual\": 27, \"Archery Men's Target Archery, 28 metres, Team\": 28, \"Archery Men's Target Archery, 33 metres, Individual\": 29, \"Archery Men's Target Archery, 33 metres, Team\": 30, \"Archery Men's Target Archery, 50 metres, Individual\": 31, \"Archery Men's Target Archery, 50 metres, Team\": 32, \"Archery Men's Team\": 33, \"Archery Men's Team Round\": 34, \"Archery Men's Unknown Event\": 35, \"Archery Women's Double Columbia Round\": 36, \"Archery Women's Double National Round\": 37, \"Archery Women's Individual\": 38, \"Archery Women's Team\": 39, \"Archery Women's Team Round\": 40, 'Art Competitions Mixed Architecture': 41, 'Art Competitions Mixed Architecture, Architectural Designs': 42, 'Art Competitions Mixed Architecture, Designs For Town Planning': 43, 'Art Competitions Mixed Architecture, Unknown Event': 44, 'Art Competitions Mixed Literature': 45, 'Art Competitions Mixed Literature, Dramatic Works': 46, 'Art Competitions Mixed Literature, Epic Works': 47, 'Art Competitions Mixed Literature, Lyric Works': 48, 'Art Competitions Mixed Literature, Unknown Event': 49, 'Art Competitions Mixed Music': 50, 'Art Competitions Mixed Music, Compositions For Orchestra': 51, 'Art Competitions Mixed Music, Compositions For Solo Or Chorus': 52, 'Art Competitions Mixed Music, Instrumental And Chamber': 53, 'Art Competitions Mixed Music, Unknown Event': 54, 'Art Competitions Mixed Music, Vocals': 55, 'Art Competitions Mixed Painting': 56, 'Art Competitions Mixed Painting, Applied Arts': 57, 'Art Competitions Mixed Painting, Drawings And Water Colors': 58, 'Art Competitions Mixed Painting, Graphic Arts': 59, 'Art Competitions Mixed Painting, Paintings': 60, 'Art Competitions Mixed Painting, Unknown Event': 61, 'Art Competitions Mixed Sculpturing': 62, 'Art Competitions Mixed Sculpturing, Medals': 63, 'Art Competitions Mixed Sculpturing, Medals And Plaques': 64, 'Art Competitions Mixed Sculpturing, Medals And Reliefs': 65, 'Art Competitions Mixed Sculpturing, Reliefs': 66, 'Art Competitions Mixed Sculpturing, Statues': 67, 'Art Competitions Mixed Sculpturing, Unknown Event': 68, 'Art Competitions Mixed Unknown Event': 69, \"Athletics Men's 1,500 metres\": 70, \"Athletics Men's 1,500 metres Walk\": 71, \"Athletics Men's 1,600 metres Medley Relay\": 72, \"Athletics Men's 10 kilometres Walk\": 73, \"Athletics Men's 10 mile Walk\": 74, \"Athletics Men's 10,000 metres\": 75, \"Athletics Men's 100 metres\": 76, \"Athletics Men's 110 metres Hurdles\": 77, \"Athletics Men's 2,500 metres Steeplechase\": 78, \"Athletics Men's 2,590 metres Steeplechase\": 79, \"Athletics Men's 20 kilometres Walk\": 80, \"Athletics Men's 200 metres\": 81, \"Athletics Men's 200 metres Hurdles\": 82, \"Athletics Men's 3 mile, Team\": 83, \"Athletics Men's 3,000 metres Steeplechase\": 84, \"Athletics Men's 3,000 metres Walk\": 85, \"Athletics Men's 3,000 metres, Team\": 86, \"Athletics Men's 3,200 metres Steeplechase\": 87, \"Athletics Men's 3,500 metres Walk\": 88, \"Athletics Men's 4 mile, Team\": 89, \"Athletics Men's 4 x 100 metres Relay\": 90, \"Athletics Men's 4 x 400 metres Relay\": 91, \"Athletics Men's 4,000 metres Steeplechase\": 92, \"Athletics Men's 400 metres\": 93, \"Athletics Men's 400 metres Hurdles\": 94, \"Athletics Men's 5 mile\": 95, \"Athletics Men's 5,000 metres\": 96, \"Athletics Men's 5,000 metres, Team\": 97, \"Athletics Men's 50 kilometres Walk\": 98, \"Athletics Men's 56-pound Weight Throw\": 99, \"Athletics Men's 60 metres\": 100, \"Athletics Men's 800 metres\": 101, \"Athletics Men's All-Around Championship\": 102, \"Athletics Men's Cross-Country, Individual\": 103, \"Athletics Men's Cross-Country, Team\": 104, \"Athletics Men's Decathlon\": 105, \"Athletics Men's Discus Throw\": 106, \"Athletics Men's Discus Throw, Both Hands\": 107, \"Athletics Men's Discus Throw, Greek Style\": 108, \"Athletics Men's Hammer Throw\": 109, \"Athletics Men's High Jump\": 110, \"Athletics Men's Javelin Throw\": 111, \"Athletics Men's Javelin Throw, Both Hands\": 112, \"Athletics Men's Javelin Throw, Freestyle\": 113, \"Athletics Men's Long Jump\": 114, \"Athletics Men's Marathon\": 115, \"Athletics Men's Pentathlon\": 116, \"Athletics Men's Pentathlon (Ancient)\": 117, \"Athletics Men's Pole Vault\": 118, \"Athletics Men's Shot Put\": 119, \"Athletics Men's Shot Put, Both Hands\": 120, \"Athletics Men's Standing High Jump\": 121, \"Athletics Men's Standing Long Jump\": 122, \"Athletics Men's Standing Triple Jump\": 123, \"Athletics Men's Stone Throw\": 124, \"Athletics Men's Triple Jump\": 125, \"Athletics Women's 1,500 metres\": 126, \"Athletics Women's 10 kilometres Walk\": 127, \"Athletics Women's 10,000 metres\": 128, \"Athletics Women's 100 metres\": 129, \"Athletics Women's 100 metres Hurdles\": 130, \"Athletics Women's 20 kilometres Walk\": 131, \"Athletics Women's 200 metres\": 132, \"Athletics Women's 3,000 metres\": 133, \"Athletics Women's 3,000 metres Steeplechase\": 134, \"Athletics Women's 4 x 100 metres Relay\": 135, \"Athletics Women's 4 x 400 metres Relay\": 136, \"Athletics Women's 400 metres\": 137, \"Athletics Women's 400 metres Hurdles\": 138, \"Athletics Women's 5,000 metres\": 139, \"Athletics Women's 80 metres Hurdles\": 140, \"Athletics Women's 800 metres\": 141, \"Athletics Women's Discus Throw\": 142, \"Athletics Women's Hammer Throw\": 143, \"Athletics Women's Heptathlon\": 144, \"Athletics Women's High Jump\": 145, \"Athletics Women's Javelin Throw\": 146, \"Athletics Women's Long Jump\": 147, \"Athletics Women's Marathon\": 148, \"Athletics Women's Pentathlon\": 149, \"Athletics Women's Pole Vault\": 150, \"Athletics Women's Shot Put\": 151, \"Athletics Women's Triple Jump\": 152, \"Badminton Men's Doubles\": 153, \"Badminton Men's Singles\": 154, 'Badminton Mixed Doubles': 155, \"Badminton Women's Doubles\": 156, \"Badminton Women's Singles\": 157, \"Baseball Men's Baseball\": 158, \"Basketball Men's Basketball\": 159, \"Basketball Women's Basketball\": 160, \"Basque Pelota Men's Two-Man Teams With Cesta\": 161, \"Beach Volleyball Men's Beach Volleyball\": 162, \"Beach Volleyball Women's Beach Volleyball\": 163, \"Biathlon Men's 10 kilometres Sprint\": 164, \"Biathlon Men's 12.5 kilometres Pursuit\": 165, \"Biathlon Men's 15 kilometres Mass Start\": 166, \"Biathlon Men's 20 kilometres\": 167, \"Biathlon Men's 4 x 7.5 kilometres Relay\": 168, 'Biathlon Mixed 2 x 6 kilometres and 2 x 7.5 kilometres Relay': 169, \"Biathlon Women's 10 kilometres Pursuit\": 170, \"Biathlon Women's 12.5 kilometres Mass Start\": 171, \"Biathlon Women's 15 kilometres\": 172, \"Biathlon Women's 3 x 7.5 kilometres Relay\": 173, \"Biathlon Women's 4 x 6 kilometres Relay\": 174, \"Biathlon Women's 4 x 7.5 kilometres Relay\": 175, \"Biathlon Women's 7.5 kilometres Sprint\": 176, \"Bobsleigh Men's Four\": 177, \"Bobsleigh Men's Four/Five\": 178, \"Bobsleigh Men's Two\": 179, \"Bobsleigh Women's Two\": 180, \"Boxing Men's Bantamweight\": 181, \"Boxing Men's Featherweight\": 182, \"Boxing Men's Flyweight\": 183, \"Boxing Men's Heavyweight\": 184, \"Boxing Men's Light-Flyweight\": 185, \"Boxing Men's Light-Heavyweight\": 186, \"Boxing Men's Light-Middleweight\": 187, \"Boxing Men's Light-Welterweight\": 188, \"Boxing Men's Lightweight\": 189, \"Boxing Men's Middleweight\": 190, \"Boxing Men's Super-Heavyweight\": 191, \"Boxing Men's Welterweight\": 192, \"Boxing Women's Flyweight\": 193, \"Boxing Women's Lightweight\": 194, \"Boxing Women's Middleweight\": 195, \"Canoeing Men's Canadian Doubles, 1,000 metres\": 196, \"Canoeing Men's Canadian Doubles, 10,000 metres\": 197, \"Canoeing Men's Canadian Doubles, 500 metres\": 198, \"Canoeing Men's Canadian Doubles, Slalom\": 199, \"Canoeing Men's Canadian Singles, 1,000 metres\": 200, \"Canoeing Men's Canadian Singles, 10,000 metres\": 201, \"Canoeing Men's Canadian Singles, 200 metres\": 202, \"Canoeing Men's Canadian Singles, 500 metres\": 203, \"Canoeing Men's Canadian Singles, Slalom\": 204, \"Canoeing Men's Folding Kayak Doubles, 10 kilometres\": 205, \"Canoeing Men's Folding Kayak Singles, 10 kilometres\": 206, \"Canoeing Men's Kayak Doubles, 1,000 metres\": 207, \"Canoeing Men's Kayak Doubles, 10,000 metres\": 208, \"Canoeing Men's Kayak Doubles, 200 metres\": 209, \"Canoeing Men's Kayak Doubles, 500 metres\": 210, \"Canoeing Men's Kayak Fours, 1,000 metres\": 211, \"Canoeing Men's Kayak Relay 4 x 500 metres\": 212, \"Canoeing Men's Kayak Singles, 1,000 metres\": 213, \"Canoeing Men's Kayak Singles, 10,000 metres\": 214, \"Canoeing Men's Kayak Singles, 200 metres\": 215, \"Canoeing Men's Kayak Singles, 500 metres\": 216, \"Canoeing Men's Kayak Singles, Slalom\": 217, \"Canoeing Women's Kayak Doubles, 500 metres\": 218, \"Canoeing Women's Kayak Fours, 500 metres\": 219, \"Canoeing Women's Kayak Singles, 200 metres\": 220, \"Canoeing Women's Kayak Singles, 500 metres\": 221, \"Canoeing Women's Kayak Singles, Slalom\": 222, \"Cricket Men's Cricket\": 223, 'Croquet Mixed Doubles': 224, 'Croquet Mixed Singles, One Ball': 225, 'Croquet Mixed Singles, Two Balls': 226, \"Cross Country Skiing Men's 10 kilometres\": 227, \"Cross Country Skiing Men's 10/10 kilometres Pursuit\": 228, \"Cross Country Skiing Men's 10/15 kilometres Pursuit\": 229, \"Cross Country Skiing Men's 15 kilometres\": 230, \"Cross Country Skiing Men's 18 kilometres\": 231, \"Cross Country Skiing Men's 30 kilometres\": 232, \"Cross Country Skiing Men's 30 km Skiathlon\": 233, \"Cross Country Skiing Men's 4 x 10 kilometres Relay\": 234, \"Cross Country Skiing Men's 50 kilometres\": 235, \"Cross Country Skiing Men's Sprint\": 236, \"Cross Country Skiing Men's Team Sprint\": 237, \"Cross Country Skiing Women's 10 kilometres\": 238, \"Cross Country Skiing Women's 15 kilometres\": 239, \"Cross Country Skiing Women's 15 km Skiathlon\": 240, \"Cross Country Skiing Women's 20 kilometres\": 241, \"Cross Country Skiing Women's 3 x 5 kilometres Relay\": 242, \"Cross Country Skiing Women's 30 kilometres\": 243, \"Cross Country Skiing Women's 4 x 5 kilometres Relay\": 244, \"Cross Country Skiing Women's 5 kilometres\": 245, \"Cross Country Skiing Women's 5/10 kilometres Pursuit\": 246, \"Cross Country Skiing Women's 5/5 kilometres Pursuit\": 247, \"Cross Country Skiing Women's Sprint\": 248, \"Cross Country Skiing Women's Team Sprint\": 249, \"Curling Men's Curling\": 250, \"Curling Women's Curling\": 251, \"Cycling Men's 1 mile\": 252, \"Cycling Men's 1,000 metres Time Trial\": 253, \"Cycling Men's 1/2 mile\": 254, \"Cycling Men's 1/3 mile\": 255, \"Cycling Men's 1/4 mile\": 256, \"Cycling Men's 10,000 metres\": 257, \"Cycling Men's 100 kilometres\": 258, \"Cycling Men's 100 kilometres Team Time Trial\": 259, \"Cycling Men's 12-Hours Race\": 260, \"Cycling Men's 2 mile\": 261, \"Cycling Men's 20 kilometres\": 262, \"Cycling Men's 25 kilometres\": 263, \"Cycling Men's 25 mile\": 264, \"Cycling Men's 333 metres Time Trial\": 265, \"Cycling Men's 5 mile\": 266, \"Cycling Men's 5,000 metres\": 267, \"Cycling Men's 50 kilometres\": 268, \"Cycling Men's BMX\": 269, \"Cycling Men's Individual Pursuit, 4,000 metres\": 270, \"Cycling Men's Individual Time Trial\": 271, \"Cycling Men's Keirin\": 272, \"Cycling Men's Madison\": 273, \"Cycling Men's Mountainbike, Cross-Country\": 274, \"Cycling Men's Omnium\": 275, \"Cycling Men's Points Race\": 276, \"Cycling Men's Road Race, Individual\": 277, \"Cycling Men's Road Race, Team\": 278, \"Cycling Men's Sprint\": 279, \"Cycling Men's Tandem Sprint, 2,000 metres\": 280, \"Cycling Men's Team Pursuit, 1,980 yards\": 281, \"Cycling Men's Team Pursuit, 4,000 metres\": 282, \"Cycling Men's Team Sprint\": 283, \"Cycling Women's 500 metres Time Trial\": 284, \"Cycling Women's BMX\": 285, \"Cycling Women's Individual Pursuit, 3,000 metres\": 286, \"Cycling Women's Individual Time Trial\": 287, \"Cycling Women's Keirin\": 288, \"Cycling Women's Mountainbike, Cross-Country\": 289, \"Cycling Women's Omnium\": 290, \"Cycling Women's Points Race\": 291, \"Cycling Women's Road Race, Individual\": 292, \"Cycling Women's Sprint\": 293, \"Cycling Women's Team Pursuit\": 294, \"Cycling Women's Team Sprint\": 295, \"Diving Men's Plain High\": 296, \"Diving Men's Platform\": 297, \"Diving Men's Springboard\": 298, \"Diving Men's Synchronized Platform\": 299, \"Diving Men's Synchronized Springboard\": 300, \"Diving Women's Plain High\": 301, \"Diving Women's Platform\": 302, \"Diving Women's Springboard\": 303, \"Diving Women's Synchronized Platform\": 304, \"Diving Women's Synchronized Springboard\": 305, \"Equestrianism Men's Dressage, Individual\": 306, \"Equestrianism Men's Dressage, Team\": 307, \"Equestrianism Men's Jumping, Individual\": 308, \"Equestrianism Men's Jumping, Team\": 309, \"Equestrianism Men's Three-Day Event, Individual\": 310, \"Equestrianism Men's Three-Day Event, Team\": 311, \"Equestrianism Men's Vaulting, Individual\": 312, \"Equestrianism Men's Vaulting, Team\": 313, 'Equestrianism Mixed Dressage, Individual': 314, 'Equestrianism Mixed Dressage, Team': 315, 'Equestrianism Mixed Four-In-Hand Competition': 316, 'Equestrianism Mixed Hacks And Hunter Combined': 317, 'Equestrianism Mixed High Jump': 318, 'Equestrianism Mixed Jumping, Individual': 319, 'Equestrianism Mixed Jumping, Team': 320, 'Equestrianism Mixed Long Jump': 321, 'Equestrianism Mixed Three-Day Event, Individual': 322, 'Equestrianism Mixed Three-Day Event, Team': 323, \"Fencing Men's Foil, Individual\": 324, \"Fencing Men's Foil, Masters, Individual\": 325, \"Fencing Men's Foil, Team\": 326, \"Fencing Men's Sabre, Individual\": 327, \"Fencing Men's Sabre, Individual, Three Hits\": 328, \"Fencing Men's Sabre, Masters, Individual\": 329, \"Fencing Men's Sabre, Team\": 330, \"Fencing Men's Single Sticks, Individual\": 331, \"Fencing Men's epee, Individual\": 332, \"Fencing Men's epee, Masters and Amateurs, Individual\": 333, \"Fencing Men's epee, Masters, Individual\": 334, \"Fencing Men's epee, Team\": 335, \"Fencing Women's Foil, Individual\": 336, \"Fencing Women's Foil, Team\": 337, \"Fencing Women's Sabre, Individual\": 338, \"Fencing Women's Sabre, Team\": 339, \"Fencing Women's epee, Individual\": 340, \"Fencing Women's epee, Team\": 341, \"Figure Skating Men's Singles\": 342, \"Figure Skating Men's Special Figures\": 343, 'Figure Skating Mixed Ice Dancing': 344, 'Figure Skating Mixed Pairs': 345, 'Figure Skating Mixed Team': 346, \"Figure Skating Women's Singles\": 347, \"Football Men's Football\": 348, \"Football Women's Football\": 349, \"Freestyle Skiing Men's Aerials\": 350, \"Freestyle Skiing Men's Halfpipe\": 351, \"Freestyle Skiing Men's Moguls\": 352, \"Freestyle Skiing Men's Ski Cross\": 353, \"Freestyle Skiing Men's Slopestyle\": 354, \"Freestyle Skiing Women's Aerials\": 355, \"Freestyle Skiing Women's Halfpipe\": 356, \"Freestyle Skiing Women's Moguls\": 357, \"Freestyle Skiing Women's Ski Cross\": 358, \"Freestyle Skiing Women's Slopestyle\": 359, \"Golf Men's Individual\": 360, \"Golf Men's Team\": 361, \"Golf Women's Individual\": 362, \"Gymnastics Men's Club Swinging\": 363, \"Gymnastics Men's Floor Exercise\": 364, \"Gymnastics Men's Horizontal Bar\": 365, \"Gymnastics Men's Horizontal Bar, Teams\": 366, \"Gymnastics Men's Horse Vault\": 367, \"Gymnastics Men's Individual All-Around\": 368, \"Gymnastics Men's Individual All-Around, 4 Events\": 369, \"Gymnastics Men's Individual All-Around, 5 Events\": 370, \"Gymnastics Men's Individual All-Around, Apparatus Work\": 371, \"Gymnastics Men's Individual All-Around, Field Sports\": 372, \"Gymnastics Men's Parallel Bars\": 373, \"Gymnastics Men's Parallel Bars, Teams\": 374, \"Gymnastics Men's Pommelled Horse\": 375, \"Gymnastics Men's Rings\": 376, \"Gymnastics Men's Rope Climbing\": 377, \"Gymnastics Men's Side Horse\": 378, \"Gymnastics Men's Team All-Around\": 379, \"Gymnastics Men's Team All-Around, Free System\": 380, \"Gymnastics Men's Team All-Around, Swedish System\": 381, \"Gymnastics Men's Tumbling\": 382, \"Gymnastics Women's Balance Beam\": 383, \"Gymnastics Women's Floor Exercise\": 384, \"Gymnastics Women's Horse Vault\": 385, \"Gymnastics Women's Individual All-Around\": 386, \"Gymnastics Women's Team All-Around\": 387, \"Gymnastics Women's Team Portable Apparatus\": 388, \"Gymnastics Women's Uneven Bars\": 389, \"Handball Men's Handball\": 390, \"Handball Women's Handball\": 391, \"Hockey Men's Hockey\": 392, \"Hockey Women's Hockey\": 393, \"Ice Hockey Men's Ice Hockey\": 394, \"Ice Hockey Women's Ice Hockey\": 395, \"Jeu De Paume Men's Singles\": 396, \"Judo Men's Extra-Lightweight\": 397, \"Judo Men's Half-Heavyweight\": 398, \"Judo Men's Half-Lightweight\": 399, \"Judo Men's Half-Middleweight\": 400, \"Judo Men's Heavyweight\": 401, \"Judo Men's Lightweight\": 402, \"Judo Men's Middleweight\": 403, \"Judo Men's Open Class\": 404, \"Judo Women's Extra-Lightweight\": 405, \"Judo Women's Half-Heavyweight\": 406, \"Judo Women's Half-Lightweight\": 407, \"Judo Women's Half-Middleweight\": 408, \"Judo Women's Heavyweight\": 409, \"Judo Women's Lightweight\": 410, \"Judo Women's Middleweight\": 411, \"Lacrosse Men's Lacrosse\": 412, \"Luge Men's Singles\": 413, \"Luge Mixed (Men)'s Doubles\": 414, 'Luge Mixed Team Relay': 415, \"Luge Women's Singles\": 416, \"Military Ski Patrol Men's Military Ski Patrol\": 417, \"Modern Pentathlon Men's Individual\": 418, \"Modern Pentathlon Men's Team\": 419, \"Modern Pentathlon Women's Individual\": 420, 'Motorboating Mixed A-Class (Open)': 421, 'Motorboating Mixed B-Class (Under 60 Feet)': 422, 'Motorboating Mixed C-Class': 423, \"Nordic Combined Men's Individual\": 424, \"Nordic Combined Men's Large Hill / 10 km, Individual\": 425, \"Nordic Combined Men's Normal Hill / 10 km, Individual\": 426, \"Nordic Combined Men's Sprint\": 427, \"Nordic Combined Men's Team\": 428, \"Polo Men's Polo\": 429, \"Racquets Men's Doubles\": 430, \"Racquets Men's Singles\": 431, \"Rhythmic Gymnastics Women's Group\": 432, \"Rhythmic Gymnastics Women's Individual\": 433, \"Roque Men's Singles\": 434, \"Rowing Men's 17-Man Naval Rowing Boats\": 435, \"Rowing Men's 6-Man Naval Rowing Boats\": 436, \"Rowing Men's Coxed Eights\": 437, \"Rowing Men's Coxed Fours\": 438, \"Rowing Men's Coxed Fours, Inriggers\": 439, \"Rowing Men's Coxed Fours, Outriggers\": 440, \"Rowing Men's Coxed Pairs\": 441, \"Rowing Men's Coxed Pairs (1 kilometres)\": 442, \"Rowing Men's Coxed Pairs (1 mile)\": 443, \"Rowing Men's Coxless Fours\": 444, \"Rowing Men's Coxless Pairs\": 445, \"Rowing Men's Double Sculls\": 446, \"Rowing Men's Lightweight Coxless Fours\": 447, \"Rowing Men's Lightweight Double Sculls\": 448, \"Rowing Men's Quadruple Sculls\": 449, \"Rowing Men's Single Sculls\": 450, \"Rowing Women's Coxed Eights\": 451, \"Rowing Women's Coxed Fours\": 452, \"Rowing Women's Coxed Quadruple Sculls\": 453, \"Rowing Women's Coxless Fours\": 454, \"Rowing Women's Coxless Pairs\": 455, \"Rowing Women's Double Sculls\": 456, \"Rowing Women's Lightweight Double Sculls\": 457, \"Rowing Women's Quadruple Sculls\": 458, \"Rowing Women's Single Sculls\": 459, \"Rugby Men's Rugby\": 460, \"Rugby Sevens Men's Rugby Sevens\": 461, \"Rugby Sevens Women's Rugby Sevens\": 462, \"Sailing Men's One Person Dinghy\": 463, \"Sailing Men's One Person Heavyweight Dinghy\": 464, \"Sailing Men's Skiff\": 465, \"Sailing Men's Two Person Dinghy\": 466, \"Sailing Men's Two Person Keelboat\": 467, \"Sailing Men's Windsurfer\": 468, 'Sailing Mixed 0-0.5 Ton': 469, 'Sailing Mixed 0.5-1 Ton': 470, 'Sailing Mixed 1-2 Ton': 471, 'Sailing Mixed 10 metres': 472, 'Sailing Mixed 10-20 Ton': 473, 'Sailing Mixed 12 foot': 474, 'Sailing Mixed 12 metres': 475, 'Sailing Mixed 18 foot': 476, 'Sailing Mixed 2-3 Ton': 477, 'Sailing Mixed 20+ Ton': 478, 'Sailing Mixed 3-10 Ton': 479, 'Sailing Mixed 30 metres': 480, 'Sailing Mixed 40 metres': 481, 'Sailing Mixed 5.5 metres': 482, 'Sailing Mixed 6 metres': 483, 'Sailing Mixed 6.5 metres': 484, 'Sailing Mixed 7 metres': 485, 'Sailing Mixed 8 metres': 486, 'Sailing Mixed Multihull': 487, 'Sailing Mixed One Person Dinghy': 488, 'Sailing Mixed Open': 489, 'Sailing Mixed Skiff': 490, 'Sailing Mixed Three Person Keelboat': 491, 'Sailing Mixed Two Person Dinghy': 492, 'Sailing Mixed Two Person Heavyweight Dinghy': 493, 'Sailing Mixed Two Person Keelboat': 494, 'Sailing Mixed Windsurfer': 495, \"Sailing Women's One Person Dinghy\": 496, \"Sailing Women's Skiff\": 497, \"Sailing Women's Three Person Keelboat\": 498, \"Sailing Women's Two Person Dinghy\": 499, \"Sailing Women's Windsurfer\": 500, \"Shooting Men's Air Pistol, 10 metres\": 501, \"Shooting Men's Air Rifle, 10 metres\": 502, \"Shooting Men's Double Trap\": 503, \"Shooting Men's Dueling Pistol Au Commandement, 25 metres\": 504, \"Shooting Men's Dueling Pistol Au Vise 20 metres\": 505, \"Shooting Men's Dueling Pistol, 30 metres\": 506, \"Shooting Men's Dueling Pistol, 30 metres, Team\": 507, \"Shooting Men's Free Pistol, 25 metres\": 508, \"Shooting Men's Free Pistol, 30 metres\": 509, \"Shooting Men's Free Pistol, 50 metres\": 510, \"Shooting Men's Free Pistol, 50 metres, Team\": 511, \"Shooting Men's Free Pistol, 50 yards\": 512, \"Shooting Men's Free Pistol, 50 yards, Team\": 513, \"Shooting Men's Free Rifle, 1,000 Yards\": 514, \"Shooting Men's Free Rifle, 400, 600 and 800 metres, Team\": 515, \"Shooting Men's Free Rifle, Any Position, 300 metres\": 516, \"Shooting Men's Free Rifle, Kneeling, 300 metres\": 517, \"Shooting Men's Free Rifle, Prone, 300 metres\": 518, \"Shooting Men's Free Rifle, Prone, 600 metres\": 519, \"Shooting Men's Free Rifle, Standing, 300 metres\": 520, \"Shooting Men's Free Rifle, Three Positions, 300 metres\": 521, \"Shooting Men's Free Rifle, Three Positions, 300 metres, Team\": 522, \"Shooting Men's Military Pistol, 25 metres\": 523, \"Shooting Men's Military Pistol, 30 metres\": 524, \"Shooting Men's Military Pistol, Team\": 525, \"Shooting Men's Military Revolver, 1873-1874 Gras Model, 20 metres\": 526, \"Shooting Men's Military Revolver, 20 metres\": 527, \"Shooting Men's Military Rifle, 1873-1874 Gras Model, Kneeling Or Standing, 200 metres\": 528, \"Shooting Men's Military Rifle, 200 metres\": 529, \"Shooting Men's Military Rifle, 200, 400, 500 and 600 metres, Team\": 530, \"Shooting Men's Military Rifle, 200/500/600/800/900/1,000 Yards, Team\": 531, \"Shooting Men's Military Rifle, 300 metres and 600 metres, Prone, Team\": 532, \"Shooting Men's Military Rifle, Any Position, 600 metres\": 533, \"Shooting Men's Military Rifle, Kneeling Or Standing, 300 metres\": 534, \"Shooting Men's Military Rifle, Prone, 300 metres\": 535, \"Shooting Men's Military Rifle, Prone, 300 metres, Team\": 536, \"Shooting Men's Military Rifle, Prone, 600 metres\": 537, \"Shooting Men's Military Rifle, Prone, 600 metres, Team\": 538, \"Shooting Men's Military Rifle, Standing, 300 metres\": 539, \"Shooting Men's Military Rifle, Standing, 300 metres, Team\": 540, \"Shooting Men's Military Rifle, Three Positions, 300 metres\": 541, \"Shooting Men's Muzzle-Loading Pistol, 25 metres\": 542, \"Shooting Men's Rapid-Fire Pistol, 25 metres\": 543, \"Shooting Men's Running Target, 10 metres\": 544, \"Shooting Men's Running Target, 50 metres\": 545, \"Shooting Men's Running Target, Double Shot\": 546, \"Shooting Men's Running Target, Double Shot, Team\": 547, \"Shooting Men's Running Target, Single And Double Shot\": 548, \"Shooting Men's Running Target, Single Shot\": 549, \"Shooting Men's Running Target, Single Shot, Team\": 550, \"Shooting Men's Skeet\": 551, \"Shooting Men's Small Bore-Rifle, Standing, 50 metres, Team\": 552, \"Shooting Men's Small-Bore Rifle, 50 and 100 yards, Team\": 553, \"Shooting Men's Small-Bore Rifle, Any Position, 50 metres\": 554, \"Shooting Men's Small-Bore Rifle, Disappearing Target, 25 metres\": 555, \"Shooting Men's Small-Bore Rifle, Disappearing Target, 25 metres, Team\": 556, \"Shooting Men's Small-Bore Rifle, Disappearing Target, 25 yards\": 557, \"Shooting Men's Small-Bore Rifle, Moving Target, 25 yards\": 558, \"Shooting Men's Small-Bore Rifle, Prone, 50 and 100 yards\": 559, \"Shooting Men's Small-Bore Rifle, Prone, 50 metres\": 560, \"Shooting Men's Small-Bore Rifle, Prone, 50 metres, Team\": 561, \"Shooting Men's Small-Bore Rifle, Standing, 50 metres\": 562, \"Shooting Men's Small-Bore Rifle, Three Positions, 50 metres\": 563, \"Shooting Men's Trap\": 564, \"Shooting Men's Trap, Double Shot, 14 metres\": 565, \"Shooting Men's Trap, Single Shot, 16 metres\": 566, \"Shooting Men's Trap, Team\": 567, \"Shooting Men's Unknown Event\": 568, 'Shooting Mixed Free Pistol, 50 metres': 569, 'Shooting Mixed Free Rifle, Three Positions, 300 metres': 570, 'Shooting Mixed Rapid-Fire Pistol, 25 metres': 571, 'Shooting Mixed Running Target, 50 metres': 572, 'Shooting Mixed Skeet': 573, 'Shooting Mixed Small-Bore Rifle, Prone, 50 metres': 574, 'Shooting Mixed Small-Bore Rifle, Three Positions, 50 metres': 575, 'Shooting Mixed Trap': 576, \"Shooting Women's Air Pistol, 10 metres\": 577, \"Shooting Women's Air Rifle, 10 metres\": 578, \"Shooting Women's Double Trap\": 579, \"Shooting Women's Skeet\": 580, \"Shooting Women's Small-Bore Rifle, Three Positions, 50 metres\": 581, \"Shooting Women's Sporting Pistol, 25 metres\": 582, \"Shooting Women's Trap\": 583, \"Short Track Speed Skating Men's 1,000 metres\": 584, \"Short Track Speed Skating Men's 1,500 metres\": 585, \"Short Track Speed Skating Men's 5,000 metres Relay\": 586, \"Short Track Speed Skating Men's 500 metres\": 587, \"Short Track Speed Skating Women's 1,000 metres\": 588, \"Short Track Speed Skating Women's 1,500 metres\": 589, \"Short Track Speed Skating Women's 3,000 metres Relay\": 590, \"Short Track Speed Skating Women's 500 metres\": 591, \"Skeleton Men's Skeleton\": 592, \"Skeleton Women's Skeleton\": 593, \"Ski Jumping Men's Large Hill, Individual\": 594, \"Ski Jumping Men's Large Hill, Team\": 595, \"Ski Jumping Men's Normal Hill, Individual\": 596, \"Ski Jumping Women's Normal Hill, Individual\": 597, \"Snowboarding Men's Boardercross\": 598, \"Snowboarding Men's Giant Slalom\": 599, \"Snowboarding Men's Halfpipe\": 600, \"Snowboarding Men's Parallel Giant Slalom\": 601, \"Snowboarding Men's Parallel Slalom\": 602, \"Snowboarding Men's Slopestyle\": 603, \"Snowboarding Women's Boardercross\": 604, \"Snowboarding Women's Giant Slalom\": 605, \"Snowboarding Women's Halfpipe\": 606, \"Snowboarding Women's Parallel Giant Slalom\": 607, \"Snowboarding Women's Parallel Slalom\": 608, \"Snowboarding Women's Slopestyle\": 609, \"Softball Women's Softball\": 610, \"Speed Skating Men's 1,000 metres\": 611, \"Speed Skating Men's 1,500 metres\": 612, \"Speed Skating Men's 10,000 metres\": 613, \"Speed Skating Men's 5,000 metres\": 614, \"Speed Skating Men's 500 metres\": 615, \"Speed Skating Men's Allround\": 616, \"Speed Skating Men's Team Pursuit (8 laps)\": 617, \"Speed Skating Women's 1,000 metres\": 618, \"Speed Skating Women's 1,500 metres\": 619, \"Speed Skating Women's 3,000 metres\": 620, \"Speed Skating Women's 5,000 metres\": 621, \"Speed Skating Women's 500 metres\": 622, \"Speed Skating Women's Team Pursuit (6 laps)\": 623, \"Swimming Men's 1,000 metres Freestyle\": 624, \"Swimming Men's 1,200 metres Freestyle\": 625, \"Swimming Men's 1,500 metres Freestyle\": 626, \"Swimming Men's 10 kilometres Open Water\": 627, \"Swimming Men's 100 Yard Backstroke\": 628, \"Swimming Men's 100 metres Backstroke\": 629, \"Swimming Men's 100 metres Breaststroke\": 630, \"Swimming Men's 100 metres Butterfly\": 631, \"Swimming Men's 100 metres Freestyle\": 632, \"Swimming Men's 100 metres Freestyle For Sailors\": 633, \"Swimming Men's 100 yard Freestyle\": 634, \"Swimming Men's 200 metres Backstroke\": 635, \"Swimming Men's 200 metres Breaststroke\": 636, \"Swimming Men's 200 metres Butterfly\": 637, \"Swimming Men's 200 metres Freestyle\": 638, \"Swimming Men's 200 metres Individual Medley\": 639, \"Swimming Men's 200 metres Obstacle Course\": 640, \"Swimming Men's 200 metres Team Swimming\": 641, \"Swimming Men's 220 yard Freestyle\": 642, \"Swimming Men's 4 x 100 metres Freestyle Relay\": 643, \"Swimming Men's 4 x 100 metres Medley Relay\": 644, \"Swimming Men's 4 x 200 metres Freestyle Relay\": 645, \"Swimming Men's 4 x 250 metres Freestyle Relay\": 646, \"Swimming Men's 4 x 50 Yard Freestyle Relay\": 647, \"Swimming Men's 4,000 metres Freestyle\": 648, \"Swimming Men's 400 metres Breaststroke\": 649, \"Swimming Men's 400 metres Freestyle\": 650, \"Swimming Men's 400 metres Individual Medley\": 651, \"Swimming Men's 440 Yard Breaststroke\": 652, \"Swimming Men's 440 yard Freestyle\": 653, \"Swimming Men's 50 metres Freestyle\": 654, \"Swimming Men's 50 yard Freestyle\": 655, \"Swimming Men's 500 metres Freestyle\": 656, \"Swimming Men's 880 yard Freestyle\": 657, \"Swimming Men's One Mile Freestyle\": 658, \"Swimming Men's Plunge For Distance\": 659, \"Swimming Men's Underwater Swimming\": 660, \"Swimming Women's 10 kilometres Open Water\": 661, \"Swimming Women's 100 metres Backstroke\": 662, \"Swimming Women's 100 metres Breaststroke\": 663, \"Swimming Women's 100 metres Butterfly\": 664, \"Swimming Women's 100 metres Freestyle\": 665, \"Swimming Women's 200 metres Backstroke\": 666, \"Swimming Women's 200 metres Breaststroke\": 667, \"Swimming Women's 200 metres Butterfly\": 668, \"Swimming Women's 200 metres Freestyle\": 669, \"Swimming Women's 200 metres Individual Medley\": 670, \"Swimming Women's 300 metres Freestyle\": 671, \"Swimming Women's 4 x 100 metres Freestyle Relay\": 672, \"Swimming Women's 4 x 100 metres Medley Relay\": 673, \"Swimming Women's 4 x 200 metres Freestyle Relay\": 674, \"Swimming Women's 400 metres Freestyle\": 675, \"Swimming Women's 400 metres Individual Medley\": 676, \"Swimming Women's 50 metres Freestyle\": 677, \"Swimming Women's 800 metres Freestyle\": 678, \"Synchronized Swimming Women's Duet\": 679, \"Synchronized Swimming Women's Solo\": 680, \"Synchronized Swimming Women's Team\": 681, \"Table Tennis Men's Doubles\": 682, \"Table Tennis Men's Singles\": 683, \"Table Tennis Men's Team\": 684, \"Table Tennis Women's Doubles\": 685, \"Table Tennis Women's Singles\": 686, \"Table Tennis Women's Team\": 687, \"Taekwondo Men's Featherweight\": 688, \"Taekwondo Men's Flyweight\": 689, \"Taekwondo Men's Heavyweight\": 690, \"Taekwondo Men's Welterweight\": 691, \"Taekwondo Women's Featherweight\": 692, \"Taekwondo Women's Flyweight\": 693, \"Taekwondo Women's Heavyweight\": 694, \"Taekwondo Women's Welterweight\": 695, \"Tennis Men's Doubles\": 696, \"Tennis Men's Doubles, Covered Courts\": 697, \"Tennis Men's Singles\": 698, \"Tennis Men's Singles, Covered Courts\": 699, 'Tennis Mixed Doubles': 700, 'Tennis Mixed Doubles, Covered Courts': 701, \"Tennis Women's Doubles\": 702, \"Tennis Women's Singles\": 703, \"Tennis Women's Singles, Covered Courts\": 704, \"Trampolining Men's Individual\": 705, \"Trampolining Women's Individual\": 706, \"Triathlon Men's Olympic Distance\": 707, \"Triathlon Women's Olympic Distance\": 708, \"Tug-Of-War Men's Tug-Of-War\": 709, \"Volleyball Men's Volleyball\": 710, \"Volleyball Women's Volleyball\": 711, \"Water Polo Men's Water Polo\": 712, \"Water Polo Women's Water Polo\": 713, \"Weightlifting Men's All-Around Dumbbell Contest\": 714, \"Weightlifting Men's Bantamweight\": 715, \"Weightlifting Men's Featherweight\": 716, \"Weightlifting Men's Flyweight\": 717, \"Weightlifting Men's Heavyweight\": 718, \"Weightlifting Men's Heavyweight I\": 719, \"Weightlifting Men's Heavyweight II\": 720, \"Weightlifting Men's Light-Heavyweight\": 721, \"Weightlifting Men's Lightweight\": 722, \"Weightlifting Men's Middle-Heavyweight\": 723, \"Weightlifting Men's Middleweight\": 724, \"Weightlifting Men's Super-Heavyweight\": 725, \"Weightlifting Men's Unlimited, One Hand\": 726, \"Weightlifting Men's Unlimited, Two Hands\": 727, \"Weightlifting Women's Featherweight\": 728, \"Weightlifting Women's Flyweight\": 729, \"Weightlifting Women's Heavyweight\": 730, \"Weightlifting Women's Light-Heavyweight\": 731, \"Weightlifting Women's Lightweight\": 732, \"Weightlifting Women's Middleweight\": 733, \"Weightlifting Women's Super-Heavyweight\": 734, \"Wrestling Men's All-Around, Greco-Roman\": 735, \"Wrestling Men's Bantamweight, Freestyle\": 736, \"Wrestling Men's Bantamweight, Greco-Roman\": 737, \"Wrestling Men's Featherweight, Freestyle\": 738, \"Wrestling Men's Featherweight, Greco-Roman\": 739, \"Wrestling Men's Flyweight, Freestyle\": 740, \"Wrestling Men's Flyweight, Greco-Roman\": 741, \"Wrestling Men's Heavyweight, Freestyle\": 742, \"Wrestling Men's Heavyweight, Greco-Roman\": 743, \"Wrestling Men's Light-Flyweight, Freestyle\": 744, \"Wrestling Men's Light-Flyweight, Greco-Roman\": 745, \"Wrestling Men's Light-Heavyweight, Freestyle\": 746, \"Wrestling Men's Light-Heavyweight, Greco-Roman\": 747, \"Wrestling Men's Lightweight, Freestyle\": 748, \"Wrestling Men's Lightweight, Greco-Roman\": 749, \"Wrestling Men's Middleweight A, Greco-Roman\": 750, \"Wrestling Men's Middleweight B, Greco-Roman\": 751, \"Wrestling Men's Middleweight, Freestyle\": 752, \"Wrestling Men's Middleweight, Greco-Roman\": 753, \"Wrestling Men's Super-Heavyweight, Freestyle\": 754, \"Wrestling Men's Super-Heavyweight, Greco-Roman\": 755, \"Wrestling Men's Unlimited Class, Greco-Roman\": 756, \"Wrestling Men's Welterweight, Freestyle\": 757, \"Wrestling Men's Welterweight, Greco-Roman\": 758, \"Wrestling Women's Featherweight, Freestyle\": 759, \"Wrestling Women's Flyweight, Freestyle\": 760, \"Wrestling Women's Heavyweight, Freestyle\": 761, \"Wrestling Women's Light-Heavyweight, Freestyle\": 762, \"Wrestling Women's Lightweight, Freestyle\": 763, \"Wrestling Women's Middleweight, Freestyle\": 764}\n"
     ]
    }
   ],
   "source": [
    "print(\"Mapping:\", dict(zip(label_encoder.classes_, label_encoder.transform(label_encoder.classes_))))"
   ]
  },
  {
   "cell_type": "code",
   "execution_count": 120,
   "id": "a18775b5-91b4-4286-996c-6a7a8da5fbe6",
   "metadata": {},
   "outputs": [],
   "source": [
    "X=df.drop(['ID','Name','Team','NOC','NOC_encode','Games','City','Sport','Event','Medal'],axis=1)\n",
    "y=df.Medal"
   ]
  },
  {
   "cell_type": "code",
   "execution_count": 121,
   "id": "ed29e140-778c-4618-9a1c-cf97eaf562b7",
   "metadata": {},
   "outputs": [],
   "source": [
    "from sklearn.model_selection import train_test_split\n",
    "from sklearn.linear_model import LogisticRegression"
   ]
  },
  {
   "cell_type": "code",
   "execution_count": 122,
   "id": "d7ee99da-0f9e-4dfe-8405-128a81161b72",
   "metadata": {},
   "outputs": [],
   "source": [
    "X_train, X_test, y_train, y_test = train_test_split(X, y, test_size=0.2, random_state=42)"
   ]
  },
  {
   "cell_type": "code",
   "execution_count": 123,
   "id": "d5253b4d-2295-4aae-b754-e1d8a6a94ef3",
   "metadata": {},
   "outputs": [
    {
     "name": "stderr",
     "output_type": "stream",
     "text": [
      "C:\\Users\\DELL\\PycharmProjects\\pythonProject\\venv\\lib\\site-packages\\sklearn\\linear_model\\_logistic.py:444: ConvergenceWarning: lbfgs failed to converge (status=1):\n",
      "STOP: TOTAL NO. of ITERATIONS REACHED LIMIT.\n",
      "\n",
      "Increase the number of iterations (max_iter) or scale the data as shown in:\n",
      "    https://scikit-learn.org/stable/modules/preprocessing.html\n",
      "Please also refer to the documentation for alternative solver options:\n",
      "    https://scikit-learn.org/stable/modules/linear_model.html#logistic-regression\n",
      "  n_iter_i = _check_optimize_result(\n"
     ]
    },
    {
     "data": {
      "text/html": [
       "<style>#sk-container-id-23 {color: black;background-color: white;}#sk-container-id-23 pre{padding: 0;}#sk-container-id-23 div.sk-toggleable {background-color: white;}#sk-container-id-23 label.sk-toggleable__label {cursor: pointer;display: block;width: 100%;margin-bottom: 0;padding: 0.3em;box-sizing: border-box;text-align: center;}#sk-container-id-23 label.sk-toggleable__label-arrow:before {content: \"▸\";float: left;margin-right: 0.25em;color: #696969;}#sk-container-id-23 label.sk-toggleable__label-arrow:hover:before {color: black;}#sk-container-id-23 div.sk-estimator:hover label.sk-toggleable__label-arrow:before {color: black;}#sk-container-id-23 div.sk-toggleable__content {max-height: 0;max-width: 0;overflow: hidden;text-align: left;background-color: #f0f8ff;}#sk-container-id-23 div.sk-toggleable__content pre {margin: 0.2em;color: black;border-radius: 0.25em;background-color: #f0f8ff;}#sk-container-id-23 input.sk-toggleable__control:checked~div.sk-toggleable__content {max-height: 200px;max-width: 100%;overflow: auto;}#sk-container-id-23 input.sk-toggleable__control:checked~label.sk-toggleable__label-arrow:before {content: \"▾\";}#sk-container-id-23 div.sk-estimator input.sk-toggleable__control:checked~label.sk-toggleable__label {background-color: #d4ebff;}#sk-container-id-23 div.sk-label input.sk-toggleable__control:checked~label.sk-toggleable__label {background-color: #d4ebff;}#sk-container-id-23 input.sk-hidden--visually {border: 0;clip: rect(1px 1px 1px 1px);clip: rect(1px, 1px, 1px, 1px);height: 1px;margin: -1px;overflow: hidden;padding: 0;position: absolute;width: 1px;}#sk-container-id-23 div.sk-estimator {font-family: monospace;background-color: #f0f8ff;border: 1px dotted black;border-radius: 0.25em;box-sizing: border-box;margin-bottom: 0.5em;}#sk-container-id-23 div.sk-estimator:hover {background-color: #d4ebff;}#sk-container-id-23 div.sk-parallel-item::after {content: \"\";width: 100%;border-bottom: 1px solid gray;flex-grow: 1;}#sk-container-id-23 div.sk-label:hover label.sk-toggleable__label {background-color: #d4ebff;}#sk-container-id-23 div.sk-serial::before {content: \"\";position: absolute;border-left: 1px solid gray;box-sizing: border-box;top: 0;bottom: 0;left: 50%;z-index: 0;}#sk-container-id-23 div.sk-serial {display: flex;flex-direction: column;align-items: center;background-color: white;padding-right: 0.2em;padding-left: 0.2em;position: relative;}#sk-container-id-23 div.sk-item {position: relative;z-index: 1;}#sk-container-id-23 div.sk-parallel {display: flex;align-items: stretch;justify-content: center;background-color: white;position: relative;}#sk-container-id-23 div.sk-item::before, #sk-container-id-23 div.sk-parallel-item::before {content: \"\";position: absolute;border-left: 1px solid gray;box-sizing: border-box;top: 0;bottom: 0;left: 50%;z-index: -1;}#sk-container-id-23 div.sk-parallel-item {display: flex;flex-direction: column;z-index: 1;position: relative;background-color: white;}#sk-container-id-23 div.sk-parallel-item:first-child::after {align-self: flex-end;width: 50%;}#sk-container-id-23 div.sk-parallel-item:last-child::after {align-self: flex-start;width: 50%;}#sk-container-id-23 div.sk-parallel-item:only-child::after {width: 0;}#sk-container-id-23 div.sk-dashed-wrapped {border: 1px dashed gray;margin: 0 0.4em 0.5em 0.4em;box-sizing: border-box;padding-bottom: 0.4em;background-color: white;}#sk-container-id-23 div.sk-label label {font-family: monospace;font-weight: bold;display: inline-block;line-height: 1.2em;}#sk-container-id-23 div.sk-label-container {text-align: center;}#sk-container-id-23 div.sk-container {/* jupyter's `normalize.less` sets `[hidden] { display: none; }` but bootstrap.min.css set `[hidden] { display: none !important; }` so we also need the `!important` here to be able to override the default hidden behavior on the sphinx rendered scikit-learn.org. See: https://github.com/scikit-learn/scikit-learn/issues/21755 */display: inline-block !important;position: relative;}#sk-container-id-23 div.sk-text-repr-fallback {display: none;}</style><div id=\"sk-container-id-23\" class=\"sk-top-container\"><div class=\"sk-text-repr-fallback\"><pre>LogisticRegression()</pre><b>In a Jupyter environment, please rerun this cell to show the HTML representation or trust the notebook. <br />On GitHub, the HTML representation is unable to render, please try loading this page with nbviewer.org.</b></div><div class=\"sk-container\" hidden><div class=\"sk-item\"><div class=\"sk-estimator sk-toggleable\"><input class=\"sk-toggleable__control sk-hidden--visually\" id=\"sk-estimator-id-23\" type=\"checkbox\" checked><label for=\"sk-estimator-id-23\" class=\"sk-toggleable__label sk-toggleable__label-arrow\">LogisticRegression</label><div class=\"sk-toggleable__content\"><pre>LogisticRegression()</pre></div></div></div></div></div>"
      ],
      "text/plain": [
       "LogisticRegression()"
      ]
     },
     "execution_count": 123,
     "metadata": {},
     "output_type": "execute_result"
    }
   ],
   "source": [
    "model = LogisticRegression()\n",
    "model.fit(X_train, y_train)"
   ]
  },
  {
   "cell_type": "code",
   "execution_count": 124,
   "id": "21b77c4f-de6a-4a9d-9788-af699a4b6d75",
   "metadata": {},
   "outputs": [
    {
     "data": {
      "text/plain": [
       "0.8548760820805605"
      ]
     },
     "execution_count": 124,
     "metadata": {},
     "output_type": "execute_result"
    }
   ],
   "source": [
    "model.score(X_test,y_test)"
   ]
  },
  {
   "cell_type": "code",
   "execution_count": 125,
   "id": "7cf4181f-0f91-4465-a139-042895ac5c07",
   "metadata": {},
   "outputs": [
    {
     "data": {
      "text/html": [
       "<style>#sk-container-id-24 {color: black;background-color: white;}#sk-container-id-24 pre{padding: 0;}#sk-container-id-24 div.sk-toggleable {background-color: white;}#sk-container-id-24 label.sk-toggleable__label {cursor: pointer;display: block;width: 100%;margin-bottom: 0;padding: 0.3em;box-sizing: border-box;text-align: center;}#sk-container-id-24 label.sk-toggleable__label-arrow:before {content: \"▸\";float: left;margin-right: 0.25em;color: #696969;}#sk-container-id-24 label.sk-toggleable__label-arrow:hover:before {color: black;}#sk-container-id-24 div.sk-estimator:hover label.sk-toggleable__label-arrow:before {color: black;}#sk-container-id-24 div.sk-toggleable__content {max-height: 0;max-width: 0;overflow: hidden;text-align: left;background-color: #f0f8ff;}#sk-container-id-24 div.sk-toggleable__content pre {margin: 0.2em;color: black;border-radius: 0.25em;background-color: #f0f8ff;}#sk-container-id-24 input.sk-toggleable__control:checked~div.sk-toggleable__content {max-height: 200px;max-width: 100%;overflow: auto;}#sk-container-id-24 input.sk-toggleable__control:checked~label.sk-toggleable__label-arrow:before {content: \"▾\";}#sk-container-id-24 div.sk-estimator input.sk-toggleable__control:checked~label.sk-toggleable__label {background-color: #d4ebff;}#sk-container-id-24 div.sk-label input.sk-toggleable__control:checked~label.sk-toggleable__label {background-color: #d4ebff;}#sk-container-id-24 input.sk-hidden--visually {border: 0;clip: rect(1px 1px 1px 1px);clip: rect(1px, 1px, 1px, 1px);height: 1px;margin: -1px;overflow: hidden;padding: 0;position: absolute;width: 1px;}#sk-container-id-24 div.sk-estimator {font-family: monospace;background-color: #f0f8ff;border: 1px dotted black;border-radius: 0.25em;box-sizing: border-box;margin-bottom: 0.5em;}#sk-container-id-24 div.sk-estimator:hover {background-color: #d4ebff;}#sk-container-id-24 div.sk-parallel-item::after {content: \"\";width: 100%;border-bottom: 1px solid gray;flex-grow: 1;}#sk-container-id-24 div.sk-label:hover label.sk-toggleable__label {background-color: #d4ebff;}#sk-container-id-24 div.sk-serial::before {content: \"\";position: absolute;border-left: 1px solid gray;box-sizing: border-box;top: 0;bottom: 0;left: 50%;z-index: 0;}#sk-container-id-24 div.sk-serial {display: flex;flex-direction: column;align-items: center;background-color: white;padding-right: 0.2em;padding-left: 0.2em;position: relative;}#sk-container-id-24 div.sk-item {position: relative;z-index: 1;}#sk-container-id-24 div.sk-parallel {display: flex;align-items: stretch;justify-content: center;background-color: white;position: relative;}#sk-container-id-24 div.sk-item::before, #sk-container-id-24 div.sk-parallel-item::before {content: \"\";position: absolute;border-left: 1px solid gray;box-sizing: border-box;top: 0;bottom: 0;left: 50%;z-index: -1;}#sk-container-id-24 div.sk-parallel-item {display: flex;flex-direction: column;z-index: 1;position: relative;background-color: white;}#sk-container-id-24 div.sk-parallel-item:first-child::after {align-self: flex-end;width: 50%;}#sk-container-id-24 div.sk-parallel-item:last-child::after {align-self: flex-start;width: 50%;}#sk-container-id-24 div.sk-parallel-item:only-child::after {width: 0;}#sk-container-id-24 div.sk-dashed-wrapped {border: 1px dashed gray;margin: 0 0.4em 0.5em 0.4em;box-sizing: border-box;padding-bottom: 0.4em;background-color: white;}#sk-container-id-24 div.sk-label label {font-family: monospace;font-weight: bold;display: inline-block;line-height: 1.2em;}#sk-container-id-24 div.sk-label-container {text-align: center;}#sk-container-id-24 div.sk-container {/* jupyter's `normalize.less` sets `[hidden] { display: none; }` but bootstrap.min.css set `[hidden] { display: none !important; }` so we also need the `!important` here to be able to override the default hidden behavior on the sphinx rendered scikit-learn.org. See: https://github.com/scikit-learn/scikit-learn/issues/21755 */display: inline-block !important;position: relative;}#sk-container-id-24 div.sk-text-repr-fallback {display: none;}</style><div id=\"sk-container-id-24\" class=\"sk-top-container\"><div class=\"sk-text-repr-fallback\"><pre>DecisionTreeClassifier(criterion=&#x27;entropy&#x27;, random_state=0)</pre><b>In a Jupyter environment, please rerun this cell to show the HTML representation or trust the notebook. <br />On GitHub, the HTML representation is unable to render, please try loading this page with nbviewer.org.</b></div><div class=\"sk-container\" hidden><div class=\"sk-item\"><div class=\"sk-estimator sk-toggleable\"><input class=\"sk-toggleable__control sk-hidden--visually\" id=\"sk-estimator-id-24\" type=\"checkbox\" checked><label for=\"sk-estimator-id-24\" class=\"sk-toggleable__label sk-toggleable__label-arrow\">DecisionTreeClassifier</label><div class=\"sk-toggleable__content\"><pre>DecisionTreeClassifier(criterion=&#x27;entropy&#x27;, random_state=0)</pre></div></div></div></div></div>"
      ],
      "text/plain": [
       "DecisionTreeClassifier(criterion='entropy', random_state=0)"
      ]
     },
     "execution_count": 125,
     "metadata": {},
     "output_type": "execute_result"
    }
   ],
   "source": [
    "from sklearn.tree import DecisionTreeClassifier  \n",
    "classifier= DecisionTreeClassifier(criterion='entropy', random_state=0)  \n",
    "classifier.fit(X_train,y_train)"
   ]
  },
  {
   "cell_type": "code",
   "execution_count": 126,
   "id": "25b9a222-b27a-49a7-909a-87945354c6ce",
   "metadata": {},
   "outputs": [
    {
     "data": {
      "text/plain": [
       "0.8728010825439784"
      ]
     },
     "execution_count": 126,
     "metadata": {},
     "output_type": "execute_result"
    }
   ],
   "source": [
    "classifier.score(X_test,y_test)"
   ]
  },
  {
   "cell_type": "code",
   "execution_count": 136,
   "id": "83b8a88e-7f2e-40d1-8313-4e359101f2ff",
   "metadata": {},
   "outputs": [
    {
     "data": {
      "text/html": [
       "<style>#sk-container-id-30 {color: black;background-color: white;}#sk-container-id-30 pre{padding: 0;}#sk-container-id-30 div.sk-toggleable {background-color: white;}#sk-container-id-30 label.sk-toggleable__label {cursor: pointer;display: block;width: 100%;margin-bottom: 0;padding: 0.3em;box-sizing: border-box;text-align: center;}#sk-container-id-30 label.sk-toggleable__label-arrow:before {content: \"▸\";float: left;margin-right: 0.25em;color: #696969;}#sk-container-id-30 label.sk-toggleable__label-arrow:hover:before {color: black;}#sk-container-id-30 div.sk-estimator:hover label.sk-toggleable__label-arrow:before {color: black;}#sk-container-id-30 div.sk-toggleable__content {max-height: 0;max-width: 0;overflow: hidden;text-align: left;background-color: #f0f8ff;}#sk-container-id-30 div.sk-toggleable__content pre {margin: 0.2em;color: black;border-radius: 0.25em;background-color: #f0f8ff;}#sk-container-id-30 input.sk-toggleable__control:checked~div.sk-toggleable__content {max-height: 200px;max-width: 100%;overflow: auto;}#sk-container-id-30 input.sk-toggleable__control:checked~label.sk-toggleable__label-arrow:before {content: \"▾\";}#sk-container-id-30 div.sk-estimator input.sk-toggleable__control:checked~label.sk-toggleable__label {background-color: #d4ebff;}#sk-container-id-30 div.sk-label input.sk-toggleable__control:checked~label.sk-toggleable__label {background-color: #d4ebff;}#sk-container-id-30 input.sk-hidden--visually {border: 0;clip: rect(1px 1px 1px 1px);clip: rect(1px, 1px, 1px, 1px);height: 1px;margin: -1px;overflow: hidden;padding: 0;position: absolute;width: 1px;}#sk-container-id-30 div.sk-estimator {font-family: monospace;background-color: #f0f8ff;border: 1px dotted black;border-radius: 0.25em;box-sizing: border-box;margin-bottom: 0.5em;}#sk-container-id-30 div.sk-estimator:hover {background-color: #d4ebff;}#sk-container-id-30 div.sk-parallel-item::after {content: \"\";width: 100%;border-bottom: 1px solid gray;flex-grow: 1;}#sk-container-id-30 div.sk-label:hover label.sk-toggleable__label {background-color: #d4ebff;}#sk-container-id-30 div.sk-serial::before {content: \"\";position: absolute;border-left: 1px solid gray;box-sizing: border-box;top: 0;bottom: 0;left: 50%;z-index: 0;}#sk-container-id-30 div.sk-serial {display: flex;flex-direction: column;align-items: center;background-color: white;padding-right: 0.2em;padding-left: 0.2em;position: relative;}#sk-container-id-30 div.sk-item {position: relative;z-index: 1;}#sk-container-id-30 div.sk-parallel {display: flex;align-items: stretch;justify-content: center;background-color: white;position: relative;}#sk-container-id-30 div.sk-item::before, #sk-container-id-30 div.sk-parallel-item::before {content: \"\";position: absolute;border-left: 1px solid gray;box-sizing: border-box;top: 0;bottom: 0;left: 50%;z-index: -1;}#sk-container-id-30 div.sk-parallel-item {display: flex;flex-direction: column;z-index: 1;position: relative;background-color: white;}#sk-container-id-30 div.sk-parallel-item:first-child::after {align-self: flex-end;width: 50%;}#sk-container-id-30 div.sk-parallel-item:last-child::after {align-self: flex-start;width: 50%;}#sk-container-id-30 div.sk-parallel-item:only-child::after {width: 0;}#sk-container-id-30 div.sk-dashed-wrapped {border: 1px dashed gray;margin: 0 0.4em 0.5em 0.4em;box-sizing: border-box;padding-bottom: 0.4em;background-color: white;}#sk-container-id-30 div.sk-label label {font-family: monospace;font-weight: bold;display: inline-block;line-height: 1.2em;}#sk-container-id-30 div.sk-label-container {text-align: center;}#sk-container-id-30 div.sk-container {/* jupyter's `normalize.less` sets `[hidden] { display: none; }` but bootstrap.min.css set `[hidden] { display: none !important; }` so we also need the `!important` here to be able to override the default hidden behavior on the sphinx rendered scikit-learn.org. See: https://github.com/scikit-learn/scikit-learn/issues/21755 */display: inline-block !important;position: relative;}#sk-container-id-30 div.sk-text-repr-fallback {display: none;}</style><div id=\"sk-container-id-30\" class=\"sk-top-container\"><div class=\"sk-text-repr-fallback\"><pre>RandomForestClassifier(criterion=&#x27;entropy&#x27;, n_estimators=22)</pre><b>In a Jupyter environment, please rerun this cell to show the HTML representation or trust the notebook. <br />On GitHub, the HTML representation is unable to render, please try loading this page with nbviewer.org.</b></div><div class=\"sk-container\" hidden><div class=\"sk-item\"><div class=\"sk-estimator sk-toggleable\"><input class=\"sk-toggleable__control sk-hidden--visually\" id=\"sk-estimator-id-30\" type=\"checkbox\" checked><label for=\"sk-estimator-id-30\" class=\"sk-toggleable__label sk-toggleable__label-arrow\">RandomForestClassifier</label><div class=\"sk-toggleable__content\"><pre>RandomForestClassifier(criterion=&#x27;entropy&#x27;, n_estimators=22)</pre></div></div></div></div></div>"
      ],
      "text/plain": [
       "RandomForestClassifier(criterion='entropy', n_estimators=22)"
      ]
     },
     "execution_count": 136,
     "metadata": {},
     "output_type": "execute_result"
    }
   ],
   "source": [
    "from sklearn.ensemble import RandomForestClassifier  \n",
    "classifier1= RandomForestClassifier(n_estimators= 22, criterion=\"entropy\")  \n",
    "classifier1.fit(X_train,y_train)  "
   ]
  },
  {
   "cell_type": "code",
   "execution_count": 137,
   "id": "d786275c-61b3-4c3a-9105-bcae14a31eb0",
   "metadata": {},
   "outputs": [
    {
     "data": {
      "text/plain": [
       "0.902478358388789"
      ]
     },
     "execution_count": 137,
     "metadata": {},
     "output_type": "execute_result"
    }
   ],
   "source": [
    "classifier1.score(X_test,y_test)"
   ]
  },
  {
   "cell_type": "code",
   "execution_count": 138,
   "id": "425d27f5-39c9-4df9-8af5-f16b11e6fb4b",
   "metadata": {},
   "outputs": [
    {
     "data": {
      "text/html": [
       "<style>#sk-container-id-31 {color: black;background-color: white;}#sk-container-id-31 pre{padding: 0;}#sk-container-id-31 div.sk-toggleable {background-color: white;}#sk-container-id-31 label.sk-toggleable__label {cursor: pointer;display: block;width: 100%;margin-bottom: 0;padding: 0.3em;box-sizing: border-box;text-align: center;}#sk-container-id-31 label.sk-toggleable__label-arrow:before {content: \"▸\";float: left;margin-right: 0.25em;color: #696969;}#sk-container-id-31 label.sk-toggleable__label-arrow:hover:before {color: black;}#sk-container-id-31 div.sk-estimator:hover label.sk-toggleable__label-arrow:before {color: black;}#sk-container-id-31 div.sk-toggleable__content {max-height: 0;max-width: 0;overflow: hidden;text-align: left;background-color: #f0f8ff;}#sk-container-id-31 div.sk-toggleable__content pre {margin: 0.2em;color: black;border-radius: 0.25em;background-color: #f0f8ff;}#sk-container-id-31 input.sk-toggleable__control:checked~div.sk-toggleable__content {max-height: 200px;max-width: 100%;overflow: auto;}#sk-container-id-31 input.sk-toggleable__control:checked~label.sk-toggleable__label-arrow:before {content: \"▾\";}#sk-container-id-31 div.sk-estimator input.sk-toggleable__control:checked~label.sk-toggleable__label {background-color: #d4ebff;}#sk-container-id-31 div.sk-label input.sk-toggleable__control:checked~label.sk-toggleable__label {background-color: #d4ebff;}#sk-container-id-31 input.sk-hidden--visually {border: 0;clip: rect(1px 1px 1px 1px);clip: rect(1px, 1px, 1px, 1px);height: 1px;margin: -1px;overflow: hidden;padding: 0;position: absolute;width: 1px;}#sk-container-id-31 div.sk-estimator {font-family: monospace;background-color: #f0f8ff;border: 1px dotted black;border-radius: 0.25em;box-sizing: border-box;margin-bottom: 0.5em;}#sk-container-id-31 div.sk-estimator:hover {background-color: #d4ebff;}#sk-container-id-31 div.sk-parallel-item::after {content: \"\";width: 100%;border-bottom: 1px solid gray;flex-grow: 1;}#sk-container-id-31 div.sk-label:hover label.sk-toggleable__label {background-color: #d4ebff;}#sk-container-id-31 div.sk-serial::before {content: \"\";position: absolute;border-left: 1px solid gray;box-sizing: border-box;top: 0;bottom: 0;left: 50%;z-index: 0;}#sk-container-id-31 div.sk-serial {display: flex;flex-direction: column;align-items: center;background-color: white;padding-right: 0.2em;padding-left: 0.2em;position: relative;}#sk-container-id-31 div.sk-item {position: relative;z-index: 1;}#sk-container-id-31 div.sk-parallel {display: flex;align-items: stretch;justify-content: center;background-color: white;position: relative;}#sk-container-id-31 div.sk-item::before, #sk-container-id-31 div.sk-parallel-item::before {content: \"\";position: absolute;border-left: 1px solid gray;box-sizing: border-box;top: 0;bottom: 0;left: 50%;z-index: -1;}#sk-container-id-31 div.sk-parallel-item {display: flex;flex-direction: column;z-index: 1;position: relative;background-color: white;}#sk-container-id-31 div.sk-parallel-item:first-child::after {align-self: flex-end;width: 50%;}#sk-container-id-31 div.sk-parallel-item:last-child::after {align-self: flex-start;width: 50%;}#sk-container-id-31 div.sk-parallel-item:only-child::after {width: 0;}#sk-container-id-31 div.sk-dashed-wrapped {border: 1px dashed gray;margin: 0 0.4em 0.5em 0.4em;box-sizing: border-box;padding-bottom: 0.4em;background-color: white;}#sk-container-id-31 div.sk-label label {font-family: monospace;font-weight: bold;display: inline-block;line-height: 1.2em;}#sk-container-id-31 div.sk-label-container {text-align: center;}#sk-container-id-31 div.sk-container {/* jupyter's `normalize.less` sets `[hidden] { display: none; }` but bootstrap.min.css set `[hidden] { display: none !important; }` so we also need the `!important` here to be able to override the default hidden behavior on the sphinx rendered scikit-learn.org. See: https://github.com/scikit-learn/scikit-learn/issues/21755 */display: inline-block !important;position: relative;}#sk-container-id-31 div.sk-text-repr-fallback {display: none;}</style><div id=\"sk-container-id-31\" class=\"sk-top-container\"><div class=\"sk-text-repr-fallback\"><pre>KNeighborsClassifier(n_neighbors=10, p=9)</pre><b>In a Jupyter environment, please rerun this cell to show the HTML representation or trust the notebook. <br />On GitHub, the HTML representation is unable to render, please try loading this page with nbviewer.org.</b></div><div class=\"sk-container\" hidden><div class=\"sk-item\"><div class=\"sk-estimator sk-toggleable\"><input class=\"sk-toggleable__control sk-hidden--visually\" id=\"sk-estimator-id-31\" type=\"checkbox\" checked><label for=\"sk-estimator-id-31\" class=\"sk-toggleable__label sk-toggleable__label-arrow\">KNeighborsClassifier</label><div class=\"sk-toggleable__content\"><pre>KNeighborsClassifier(n_neighbors=10, p=9)</pre></div></div></div></div></div>"
      ],
      "text/plain": [
       "KNeighborsClassifier(n_neighbors=10, p=9)"
      ]
     },
     "execution_count": 138,
     "metadata": {},
     "output_type": "execute_result"
    }
   ],
   "source": [
    "from sklearn.neighbors import KNeighborsClassifier  \n",
    "classifier2= KNeighborsClassifier(n_neighbors=10, metric='minkowski', p=9)  \n",
    "classifier2.fit(X_train,y_train)  "
   ]
  },
  {
   "cell_type": "code",
   "execution_count": 139,
   "id": "6b1033c7-9bb5-42f2-8619-d95d36516458",
   "metadata": {},
   "outputs": [
    {
     "data": {
      "text/plain": [
       "0.8812352864848834"
      ]
     },
     "execution_count": 139,
     "metadata": {},
     "output_type": "execute_result"
    }
   ],
   "source": [
    "classifier2.score(X_test,y_test)"
   ]
  },
  {
   "cell_type": "code",
   "execution_count": 140,
   "id": "9756ed1a-9884-4235-ba38-e39391ba4e05",
   "metadata": {},
   "outputs": [
    {
     "data": {
      "text/html": [
       "<style>#sk-container-id-32 {color: black;background-color: white;}#sk-container-id-32 pre{padding: 0;}#sk-container-id-32 div.sk-toggleable {background-color: white;}#sk-container-id-32 label.sk-toggleable__label {cursor: pointer;display: block;width: 100%;margin-bottom: 0;padding: 0.3em;box-sizing: border-box;text-align: center;}#sk-container-id-32 label.sk-toggleable__label-arrow:before {content: \"▸\";float: left;margin-right: 0.25em;color: #696969;}#sk-container-id-32 label.sk-toggleable__label-arrow:hover:before {color: black;}#sk-container-id-32 div.sk-estimator:hover label.sk-toggleable__label-arrow:before {color: black;}#sk-container-id-32 div.sk-toggleable__content {max-height: 0;max-width: 0;overflow: hidden;text-align: left;background-color: #f0f8ff;}#sk-container-id-32 div.sk-toggleable__content pre {margin: 0.2em;color: black;border-radius: 0.25em;background-color: #f0f8ff;}#sk-container-id-32 input.sk-toggleable__control:checked~div.sk-toggleable__content {max-height: 200px;max-width: 100%;overflow: auto;}#sk-container-id-32 input.sk-toggleable__control:checked~label.sk-toggleable__label-arrow:before {content: \"▾\";}#sk-container-id-32 div.sk-estimator input.sk-toggleable__control:checked~label.sk-toggleable__label {background-color: #d4ebff;}#sk-container-id-32 div.sk-label input.sk-toggleable__control:checked~label.sk-toggleable__label {background-color: #d4ebff;}#sk-container-id-32 input.sk-hidden--visually {border: 0;clip: rect(1px 1px 1px 1px);clip: rect(1px, 1px, 1px, 1px);height: 1px;margin: -1px;overflow: hidden;padding: 0;position: absolute;width: 1px;}#sk-container-id-32 div.sk-estimator {font-family: monospace;background-color: #f0f8ff;border: 1px dotted black;border-radius: 0.25em;box-sizing: border-box;margin-bottom: 0.5em;}#sk-container-id-32 div.sk-estimator:hover {background-color: #d4ebff;}#sk-container-id-32 div.sk-parallel-item::after {content: \"\";width: 100%;border-bottom: 1px solid gray;flex-grow: 1;}#sk-container-id-32 div.sk-label:hover label.sk-toggleable__label {background-color: #d4ebff;}#sk-container-id-32 div.sk-serial::before {content: \"\";position: absolute;border-left: 1px solid gray;box-sizing: border-box;top: 0;bottom: 0;left: 50%;z-index: 0;}#sk-container-id-32 div.sk-serial {display: flex;flex-direction: column;align-items: center;background-color: white;padding-right: 0.2em;padding-left: 0.2em;position: relative;}#sk-container-id-32 div.sk-item {position: relative;z-index: 1;}#sk-container-id-32 div.sk-parallel {display: flex;align-items: stretch;justify-content: center;background-color: white;position: relative;}#sk-container-id-32 div.sk-item::before, #sk-container-id-32 div.sk-parallel-item::before {content: \"\";position: absolute;border-left: 1px solid gray;box-sizing: border-box;top: 0;bottom: 0;left: 50%;z-index: -1;}#sk-container-id-32 div.sk-parallel-item {display: flex;flex-direction: column;z-index: 1;position: relative;background-color: white;}#sk-container-id-32 div.sk-parallel-item:first-child::after {align-self: flex-end;width: 50%;}#sk-container-id-32 div.sk-parallel-item:last-child::after {align-self: flex-start;width: 50%;}#sk-container-id-32 div.sk-parallel-item:only-child::after {width: 0;}#sk-container-id-32 div.sk-dashed-wrapped {border: 1px dashed gray;margin: 0 0.4em 0.5em 0.4em;box-sizing: border-box;padding-bottom: 0.4em;background-color: white;}#sk-container-id-32 div.sk-label label {font-family: monospace;font-weight: bold;display: inline-block;line-height: 1.2em;}#sk-container-id-32 div.sk-label-container {text-align: center;}#sk-container-id-32 div.sk-container {/* jupyter's `normalize.less` sets `[hidden] { display: none; }` but bootstrap.min.css set `[hidden] { display: none !important; }` so we also need the `!important` here to be able to override the default hidden behavior on the sphinx rendered scikit-learn.org. See: https://github.com/scikit-learn/scikit-learn/issues/21755 */display: inline-block !important;position: relative;}#sk-container-id-32 div.sk-text-repr-fallback {display: none;}</style><div id=\"sk-container-id-32\" class=\"sk-top-container\"><div class=\"sk-text-repr-fallback\"><pre>GaussianNB()</pre><b>In a Jupyter environment, please rerun this cell to show the HTML representation or trust the notebook. <br />On GitHub, the HTML representation is unable to render, please try loading this page with nbviewer.org.</b></div><div class=\"sk-container\" hidden><div class=\"sk-item\"><div class=\"sk-estimator sk-toggleable\"><input class=\"sk-toggleable__control sk-hidden--visually\" id=\"sk-estimator-id-32\" type=\"checkbox\" checked><label for=\"sk-estimator-id-32\" class=\"sk-toggleable__label sk-toggleable__label-arrow\">GaussianNB</label><div class=\"sk-toggleable__content\"><pre>GaussianNB()</pre></div></div></div></div></div>"
      ],
      "text/plain": [
       "GaussianNB()"
      ]
     },
     "execution_count": 140,
     "metadata": {},
     "output_type": "execute_result"
    }
   ],
   "source": [
    "from sklearn.naive_bayes import GaussianNB  \n",
    "classifier3= GaussianNB()  \n",
    "classifier3.fit(X_train,y_train)  "
   ]
  },
  {
   "cell_type": "code",
   "execution_count": 141,
   "id": "174ba1e6-0cce-46e2-b0ed-ad1a67375024",
   "metadata": {},
   "outputs": [
    {
     "data": {
      "text/plain": [
       "0.8545238845533579"
      ]
     },
     "execution_count": 141,
     "metadata": {},
     "output_type": "execute_result"
    }
   ],
   "source": [
    "classifier3.score(X_test,y_test)"
   ]
  },
  {
   "cell_type": "code",
   "execution_count": 142,
   "id": "f73afde5-b142-4254-bd09-f523094d8743",
   "metadata": {},
   "outputs": [
    {
     "name": "stderr",
     "output_type": "stream",
     "text": [
      "C:\\Users\\DELL\\PycharmProjects\\pythonProject\\venv\\lib\\site-packages\\sklearn\\linear_model\\_stochastic_gradient.py:705: ConvergenceWarning: Maximum number of iteration reached before convergence. Consider increasing max_iter to improve the fit.\n",
      "  warnings.warn(\n"
     ]
    },
    {
     "data": {
      "text/html": [
       "<style>#sk-container-id-33 {color: black;background-color: white;}#sk-container-id-33 pre{padding: 0;}#sk-container-id-33 div.sk-toggleable {background-color: white;}#sk-container-id-33 label.sk-toggleable__label {cursor: pointer;display: block;width: 100%;margin-bottom: 0;padding: 0.3em;box-sizing: border-box;text-align: center;}#sk-container-id-33 label.sk-toggleable__label-arrow:before {content: \"▸\";float: left;margin-right: 0.25em;color: #696969;}#sk-container-id-33 label.sk-toggleable__label-arrow:hover:before {color: black;}#sk-container-id-33 div.sk-estimator:hover label.sk-toggleable__label-arrow:before {color: black;}#sk-container-id-33 div.sk-toggleable__content {max-height: 0;max-width: 0;overflow: hidden;text-align: left;background-color: #f0f8ff;}#sk-container-id-33 div.sk-toggleable__content pre {margin: 0.2em;color: black;border-radius: 0.25em;background-color: #f0f8ff;}#sk-container-id-33 input.sk-toggleable__control:checked~div.sk-toggleable__content {max-height: 200px;max-width: 100%;overflow: auto;}#sk-container-id-33 input.sk-toggleable__control:checked~label.sk-toggleable__label-arrow:before {content: \"▾\";}#sk-container-id-33 div.sk-estimator input.sk-toggleable__control:checked~label.sk-toggleable__label {background-color: #d4ebff;}#sk-container-id-33 div.sk-label input.sk-toggleable__control:checked~label.sk-toggleable__label {background-color: #d4ebff;}#sk-container-id-33 input.sk-hidden--visually {border: 0;clip: rect(1px 1px 1px 1px);clip: rect(1px, 1px, 1px, 1px);height: 1px;margin: -1px;overflow: hidden;padding: 0;position: absolute;width: 1px;}#sk-container-id-33 div.sk-estimator {font-family: monospace;background-color: #f0f8ff;border: 1px dotted black;border-radius: 0.25em;box-sizing: border-box;margin-bottom: 0.5em;}#sk-container-id-33 div.sk-estimator:hover {background-color: #d4ebff;}#sk-container-id-33 div.sk-parallel-item::after {content: \"\";width: 100%;border-bottom: 1px solid gray;flex-grow: 1;}#sk-container-id-33 div.sk-label:hover label.sk-toggleable__label {background-color: #d4ebff;}#sk-container-id-33 div.sk-serial::before {content: \"\";position: absolute;border-left: 1px solid gray;box-sizing: border-box;top: 0;bottom: 0;left: 50%;z-index: 0;}#sk-container-id-33 div.sk-serial {display: flex;flex-direction: column;align-items: center;background-color: white;padding-right: 0.2em;padding-left: 0.2em;position: relative;}#sk-container-id-33 div.sk-item {position: relative;z-index: 1;}#sk-container-id-33 div.sk-parallel {display: flex;align-items: stretch;justify-content: center;background-color: white;position: relative;}#sk-container-id-33 div.sk-item::before, #sk-container-id-33 div.sk-parallel-item::before {content: \"\";position: absolute;border-left: 1px solid gray;box-sizing: border-box;top: 0;bottom: 0;left: 50%;z-index: -1;}#sk-container-id-33 div.sk-parallel-item {display: flex;flex-direction: column;z-index: 1;position: relative;background-color: white;}#sk-container-id-33 div.sk-parallel-item:first-child::after {align-self: flex-end;width: 50%;}#sk-container-id-33 div.sk-parallel-item:last-child::after {align-self: flex-start;width: 50%;}#sk-container-id-33 div.sk-parallel-item:only-child::after {width: 0;}#sk-container-id-33 div.sk-dashed-wrapped {border: 1px dashed gray;margin: 0 0.4em 0.5em 0.4em;box-sizing: border-box;padding-bottom: 0.4em;background-color: white;}#sk-container-id-33 div.sk-label label {font-family: monospace;font-weight: bold;display: inline-block;line-height: 1.2em;}#sk-container-id-33 div.sk-label-container {text-align: center;}#sk-container-id-33 div.sk-container {/* jupyter's `normalize.less` sets `[hidden] { display: none; }` but bootstrap.min.css set `[hidden] { display: none !important; }` so we also need the `!important` here to be able to override the default hidden behavior on the sphinx rendered scikit-learn.org. See: https://github.com/scikit-learn/scikit-learn/issues/21755 */display: inline-block !important;position: relative;}#sk-container-id-33 div.sk-text-repr-fallback {display: none;}</style><div id=\"sk-container-id-33\" class=\"sk-top-container\"><div class=\"sk-text-repr-fallback\"><pre>SGDClassifier(max_iter=7)</pre><b>In a Jupyter environment, please rerun this cell to show the HTML representation or trust the notebook. <br />On GitHub, the HTML representation is unable to render, please try loading this page with nbviewer.org.</b></div><div class=\"sk-container\" hidden><div class=\"sk-item\"><div class=\"sk-estimator sk-toggleable\"><input class=\"sk-toggleable__control sk-hidden--visually\" id=\"sk-estimator-id-33\" type=\"checkbox\" checked><label for=\"sk-estimator-id-33\" class=\"sk-toggleable__label sk-toggleable__label-arrow\">SGDClassifier</label><div class=\"sk-toggleable__content\"><pre>SGDClassifier(max_iter=7)</pre></div></div></div></div></div>"
      ],
      "text/plain": [
       "SGDClassifier(max_iter=7)"
      ]
     },
     "execution_count": 142,
     "metadata": {},
     "output_type": "execute_result"
    }
   ],
   "source": [
    "from sklearn.linear_model import SGDClassifier\n",
    "clf = SGDClassifier(loss=\"hinge\", penalty=\"l2\", max_iter=7)\n",
    "clf.fit(X_train,y_train)"
   ]
  },
  {
   "cell_type": "code",
   "execution_count": 143,
   "id": "dc237a5b-4346-43ba-ab95-565e9f31e672",
   "metadata": {},
   "outputs": [
    {
     "data": {
      "text/plain": [
       "0.5109830018351345"
      ]
     },
     "execution_count": 143,
     "metadata": {},
     "output_type": "execute_result"
    }
   ],
   "source": [
    "clf.score(X_test,y_test)"
   ]
  },
  {
   "cell_type": "code",
   "execution_count": 145,
   "id": "ab198f67-532c-4399-9470-f4540eb30545",
   "metadata": {},
   "outputs": [
    {
     "name": "stdout",
     "output_type": "stream",
     "text": [
      "[1.]\n",
      "Gold Medal\n"
     ]
    },
    {
     "name": "stderr",
     "output_type": "stream",
     "text": [
      "C:\\Users\\DELL\\PycharmProjects\\pythonProject\\venv\\lib\\site-packages\\sklearn\\base.py:450: UserWarning: X does not have valid feature names, but RandomForestClassifier was fitted with feature names\n",
      "  warnings.warn(\n"
     ]
    }
   ],
   "source": [
    "import numpy as np\n",
    "#input_data=(0,30,1998,1,28.049671,809,162,24,12,177)\n",
    "input_data=(0,34.0,1900,0,22.997319,278,26,61,709)\n",
    "\n",
    "# changing the input_data to numpy array\n",
    "input_data_as_numpy_array = np.asarray(input_data)\n",
    "\n",
    "# reshape the array as we are predicting for one instance\n",
    "input_data_reshaped = input_data_as_numpy_array.reshape(1,-1)\n",
    "\n",
    "prediction = classifier1.predict(input_data_reshaped)\n",
    "print(prediction)\n",
    "\n",
    "if (prediction[0] == 0):\n",
    "  print('No Medal')\n",
    "elif (prediction[0]==1):\n",
    "  print('Gold Medal')\n",
    "elif (prediction[0]==2):\n",
    "    print('Silver Medal')\n",
    "else:\n",
    "    print(\"Bronze Medal\")\n"
   ]
  },
  {
   "cell_type": "code",
   "execution_count": 146,
   "id": "1262f44d-478c-4a9d-a587-f32567363525",
   "metadata": {},
   "outputs": [
    {
     "data": {
      "text/html": [
       "<div>\n",
       "<style scoped>\n",
       "    .dataframe tbody tr th:only-of-type {\n",
       "        vertical-align: middle;\n",
       "    }\n",
       "\n",
       "    .dataframe tbody tr th {\n",
       "        vertical-align: top;\n",
       "    }\n",
       "\n",
       "    .dataframe thead th {\n",
       "        text-align: right;\n",
       "    }\n",
       "</style>\n",
       "<table border=\"1\" class=\"dataframe\">\n",
       "  <thead>\n",
       "    <tr style=\"text-align: right;\">\n",
       "      <th></th>\n",
       "      <th>Sex</th>\n",
       "      <th>Age</th>\n",
       "      <th>Year</th>\n",
       "      <th>Season</th>\n",
       "      <th>BMI</th>\n",
       "      <th>Team_encode</th>\n",
       "      <th>City_Encoded</th>\n",
       "      <th>Sport_Encoded</th>\n",
       "      <th>Event_Encoded</th>\n",
       "    </tr>\n",
       "  </thead>\n",
       "  <tbody>\n",
       "    <tr>\n",
       "      <th>0</th>\n",
       "      <td>0</td>\n",
       "      <td>24.0</td>\n",
       "      <td>1992</td>\n",
       "      <td>0</td>\n",
       "      <td>24.691358</td>\n",
       "      <td>198</td>\n",
       "      <td>5</td>\n",
       "      <td>8</td>\n",
       "      <td>159</td>\n",
       "    </tr>\n",
       "    <tr>\n",
       "      <th>1</th>\n",
       "      <td>0</td>\n",
       "      <td>23.0</td>\n",
       "      <td>2012</td>\n",
       "      <td>0</td>\n",
       "      <td>20.761246</td>\n",
       "      <td>198</td>\n",
       "      <td>17</td>\n",
       "      <td>32</td>\n",
       "      <td>397</td>\n",
       "    </tr>\n",
       "    <tr>\n",
       "      <th>2</th>\n",
       "      <td>0</td>\n",
       "      <td>24.0</td>\n",
       "      <td>1920</td>\n",
       "      <td>0</td>\n",
       "      <td>22.997319</td>\n",
       "      <td>273</td>\n",
       "      <td>2</td>\n",
       "      <td>24</td>\n",
       "      <td>348</td>\n",
       "    </tr>\n",
       "    <tr>\n",
       "      <th>3</th>\n",
       "      <td>0</td>\n",
       "      <td>34.0</td>\n",
       "      <td>1900</td>\n",
       "      <td>0</td>\n",
       "      <td>22.997319</td>\n",
       "      <td>278</td>\n",
       "      <td>26</td>\n",
       "      <td>61</td>\n",
       "      <td>709</td>\n",
       "    </tr>\n",
       "    <tr>\n",
       "      <th>4</th>\n",
       "      <td>1</td>\n",
       "      <td>21.0</td>\n",
       "      <td>1988</td>\n",
       "      <td>1</td>\n",
       "      <td>23.959094</td>\n",
       "      <td>704</td>\n",
       "      <td>8</td>\n",
       "      <td>53</td>\n",
       "      <td>622</td>\n",
       "    </tr>\n",
       "    <tr>\n",
       "      <th>...</th>\n",
       "      <td>...</td>\n",
       "      <td>...</td>\n",
       "      <td>...</td>\n",
       "      <td>...</td>\n",
       "      <td>...</td>\n",
       "      <td>...</td>\n",
       "      <td>...</td>\n",
       "      <td>...</td>\n",
       "      <td>...</td>\n",
       "    </tr>\n",
       "    <tr>\n",
       "      <th>271111</th>\n",
       "      <td>0</td>\n",
       "      <td>29.0</td>\n",
       "      <td>1976</td>\n",
       "      <td>1</td>\n",
       "      <td>27.776911</td>\n",
       "      <td>810</td>\n",
       "      <td>14</td>\n",
       "      <td>34</td>\n",
       "      <td>414</td>\n",
       "    </tr>\n",
       "    <tr>\n",
       "      <th>271112</th>\n",
       "      <td>0</td>\n",
       "      <td>27.0</td>\n",
       "      <td>2014</td>\n",
       "      <td>1</td>\n",
       "      <td>19.047004</td>\n",
       "      <td>809</td>\n",
       "      <td>34</td>\n",
       "      <td>50</td>\n",
       "      <td>594</td>\n",
       "    </tr>\n",
       "    <tr>\n",
       "      <th>271113</th>\n",
       "      <td>0</td>\n",
       "      <td>27.0</td>\n",
       "      <td>2014</td>\n",
       "      <td>1</td>\n",
       "      <td>19.047004</td>\n",
       "      <td>809</td>\n",
       "      <td>34</td>\n",
       "      <td>50</td>\n",
       "      <td>595</td>\n",
       "    </tr>\n",
       "    <tr>\n",
       "      <th>271114</th>\n",
       "      <td>0</td>\n",
       "      <td>30.0</td>\n",
       "      <td>1998</td>\n",
       "      <td>1</td>\n",
       "      <td>28.049671</td>\n",
       "      <td>809</td>\n",
       "      <td>24</td>\n",
       "      <td>12</td>\n",
       "      <td>177</td>\n",
       "    </tr>\n",
       "    <tr>\n",
       "      <th>271115</th>\n",
       "      <td>0</td>\n",
       "      <td>34.0</td>\n",
       "      <td>2002</td>\n",
       "      <td>1</td>\n",
       "      <td>28.049671</td>\n",
       "      <td>809</td>\n",
       "      <td>29</td>\n",
       "      <td>12</td>\n",
       "      <td>177</td>\n",
       "    </tr>\n",
       "  </tbody>\n",
       "</table>\n",
       "<p>269731 rows × 9 columns</p>\n",
       "</div>"
      ],
      "text/plain": [
       "        Sex   Age  Year  Season        BMI  Team_encode  City_Encoded  \\\n",
       "0         0  24.0  1992       0  24.691358          198             5   \n",
       "1         0  23.0  2012       0  20.761246          198            17   \n",
       "2         0  24.0  1920       0  22.997319          273             2   \n",
       "3         0  34.0  1900       0  22.997319          278            26   \n",
       "4         1  21.0  1988       1  23.959094          704             8   \n",
       "...     ...   ...   ...     ...        ...          ...           ...   \n",
       "271111    0  29.0  1976       1  27.776911          810            14   \n",
       "271112    0  27.0  2014       1  19.047004          809            34   \n",
       "271113    0  27.0  2014       1  19.047004          809            34   \n",
       "271114    0  30.0  1998       1  28.049671          809            24   \n",
       "271115    0  34.0  2002       1  28.049671          809            29   \n",
       "\n",
       "        Sport_Encoded  Event_Encoded  \n",
       "0                   8            159  \n",
       "1                  32            397  \n",
       "2                  24            348  \n",
       "3                  61            709  \n",
       "4                  53            622  \n",
       "...               ...            ...  \n",
       "271111             34            414  \n",
       "271112             50            594  \n",
       "271113             50            595  \n",
       "271114             12            177  \n",
       "271115             12            177  \n",
       "\n",
       "[269731 rows x 9 columns]"
      ]
     },
     "execution_count": 146,
     "metadata": {},
     "output_type": "execute_result"
    }
   ],
   "source": [
    "X"
   ]
  },
  {
   "cell_type": "code",
   "execution_count": 108,
   "id": "4e5e62a6-29b7-4c0c-8255-5d5815f89dc4",
   "metadata": {},
   "outputs": [],
   "source": [
    "import pickle"
   ]
  },
  {
   "cell_type": "code",
   "execution_count": 147,
   "id": "db71c62d-8db0-42e9-9e48-bc177fe9886a",
   "metadata": {},
   "outputs": [],
   "source": [
    "op=open(\"oly1.pkl\",\"wb\")\n",
    "pickle.dump(classifier1,op)\n",
    "op.close()"
   ]
  },
  {
   "cell_type": "code",
   "execution_count": 114,
   "id": "fa99ddb7-ca78-4334-a497-2f0c34623f2c",
   "metadata": {},
   "outputs": [
    {
     "data": {
      "text/plain": [
       "97.0"
      ]
     },
     "execution_count": 114,
     "metadata": {},
     "output_type": "execute_result"
    }
   ],
   "source": [
    "df.Age.max()"
   ]
  },
  {
   "cell_type": "code",
   "execution_count": 116,
   "id": "d79a0766-94b9-4f3e-8aff-de75c701204a",
   "metadata": {},
   "outputs": [
    {
     "data": {
      "text/plain": [
       "63.90157962315983"
      ]
     },
     "execution_count": 116,
     "metadata": {},
     "output_type": "execute_result"
    }
   ],
   "source": [
    "df.BMI.max()"
   ]
  },
  {
   "cell_type": "code",
   "execution_count": 119,
   "id": "69dab205-82bd-48d6-a238-94f4597e8352",
   "metadata": {},
   "outputs": [
    {
     "data": {
      "text/plain": [
       "Index(['Sex', 'Age', 'Year', 'Season', 'BMI', 'Team_encode', 'NOC_encode',\n",
       "       'City_Encoded', 'Sport_Encoded', 'Event_Encoded'],\n",
       "      dtype='object')"
      ]
     },
     "execution_count": 119,
     "metadata": {},
     "output_type": "execute_result"
    }
   ],
   "source": [
    "X.columns"
   ]
  },
  {
   "cell_type": "code",
   "execution_count": null,
   "id": "e6c1cdfa-9fb7-42af-af4b-901274b1e36a",
   "metadata": {},
   "outputs": [],
   "source": []
  }
 ],
 "metadata": {
  "kernelspec": {
   "display_name": "Python 3 (ipykernel)",
   "language": "python",
   "name": "python3"
  },
  "language_info": {
   "codemirror_mode": {
    "name": "ipython",
    "version": 3
   },
   "file_extension": ".py",
   "mimetype": "text/x-python",
   "name": "python",
   "nbconvert_exporter": "python",
   "pygments_lexer": "ipython3",
   "version": "3.9.7"
  }
 },
 "nbformat": 4,
 "nbformat_minor": 5
}
